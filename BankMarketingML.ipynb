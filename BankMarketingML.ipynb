{
 "cells": [
  {
   "cell_type": "code",
   "execution_count": 1,
   "metadata": {},
   "outputs": [
    {
     "name": "stderr",
     "output_type": "stream",
     "text": [
      "/Users/Sriram/anaconda/lib/python3.6/site-packages/sklearn/cross_validation.py:44: DeprecationWarning: This module was deprecated in version 0.18 in favor of the model_selection module into which all the refactored classes and functions are moved. Also note that the interface of the new CV iterators are different from that of this module. This module will be removed in 0.20.\n",
      "  \"This module will be removed in 0.20.\", DeprecationWarning)\n"
     ]
    }
   ],
   "source": [
    "%matplotlib inline\n",
    "import matplotlib.pyplot as plt\n",
    "import pandas as pd\n",
    "import csv\n",
    "import numpy as np\n",
    "import collections\n",
    "from sklearn.cross_validation import train_test_split\n",
    "from sklearn.linear_model import RandomizedLasso\n",
    "from sklearn.tree import DecisionTreeClassifier\n",
    "from sklearn.ensemble import RandomForestClassifier\n",
    "from sklearn import svm\n",
    "from sklearn.metrics import roc_curve, auc\n",
    "from sklearn import datasets\n",
    "from sklearn.feature_selection import RFE\n",
    "from sklearn.linear_model import (LogisticRegression, RandomizedLogisticRegression)\n",
    "from sklearn.svm import SVC\n",
    "from sklearn import metrics\n",
    "from sklearn.metrics import precision_score,recall_score\n",
    "from sklearn import model_selection\n",
    "from sklearn.model_selection import cross_val_score\n",
    "from sklearn.metrics import roc_auc_score\n",
    "from sklearn import linear_model"
   ]
  },
  {
   "cell_type": "code",
   "execution_count": 2,
   "metadata": {},
   "outputs": [
    {
     "data": {
      "text/html": [
       "<div>\n",
       "<style>\n",
       "    .dataframe thead tr:only-child th {\n",
       "        text-align: right;\n",
       "    }\n",
       "\n",
       "    .dataframe thead th {\n",
       "        text-align: left;\n",
       "    }\n",
       "\n",
       "    .dataframe tbody tr th {\n",
       "        vertical-align: top;\n",
       "    }\n",
       "</style>\n",
       "<table border=\"1\" class=\"dataframe\">\n",
       "  <thead>\n",
       "    <tr style=\"text-align: right;\">\n",
       "      <th></th>\n",
       "      <th>age</th>\n",
       "      <th>job</th>\n",
       "      <th>marital</th>\n",
       "      <th>education</th>\n",
       "      <th>default</th>\n",
       "      <th>balance</th>\n",
       "      <th>housing</th>\n",
       "      <th>loan</th>\n",
       "      <th>contact</th>\n",
       "      <th>day</th>\n",
       "      <th>month</th>\n",
       "      <th>duration</th>\n",
       "      <th>campaign</th>\n",
       "      <th>pdays</th>\n",
       "      <th>previous</th>\n",
       "      <th>poutcome</th>\n",
       "      <th>y</th>\n",
       "    </tr>\n",
       "  </thead>\n",
       "  <tbody>\n",
       "    <tr>\n",
       "      <th>0</th>\n",
       "      <td>58</td>\n",
       "      <td>management</td>\n",
       "      <td>married</td>\n",
       "      <td>tertiary</td>\n",
       "      <td>no</td>\n",
       "      <td>2143</td>\n",
       "      <td>yes</td>\n",
       "      <td>no</td>\n",
       "      <td>unknown</td>\n",
       "      <td>5</td>\n",
       "      <td>may</td>\n",
       "      <td>261</td>\n",
       "      <td>1</td>\n",
       "      <td>-1</td>\n",
       "      <td>0</td>\n",
       "      <td>unknown</td>\n",
       "      <td>no</td>\n",
       "    </tr>\n",
       "    <tr>\n",
       "      <th>1</th>\n",
       "      <td>44</td>\n",
       "      <td>technician</td>\n",
       "      <td>single</td>\n",
       "      <td>secondary</td>\n",
       "      <td>no</td>\n",
       "      <td>29</td>\n",
       "      <td>yes</td>\n",
       "      <td>no</td>\n",
       "      <td>unknown</td>\n",
       "      <td>5</td>\n",
       "      <td>may</td>\n",
       "      <td>151</td>\n",
       "      <td>1</td>\n",
       "      <td>-1</td>\n",
       "      <td>0</td>\n",
       "      <td>unknown</td>\n",
       "      <td>no</td>\n",
       "    </tr>\n",
       "    <tr>\n",
       "      <th>2</th>\n",
       "      <td>33</td>\n",
       "      <td>entrepreneur</td>\n",
       "      <td>married</td>\n",
       "      <td>secondary</td>\n",
       "      <td>no</td>\n",
       "      <td>2</td>\n",
       "      <td>yes</td>\n",
       "      <td>yes</td>\n",
       "      <td>unknown</td>\n",
       "      <td>5</td>\n",
       "      <td>may</td>\n",
       "      <td>76</td>\n",
       "      <td>1</td>\n",
       "      <td>-1</td>\n",
       "      <td>0</td>\n",
       "      <td>unknown</td>\n",
       "      <td>no</td>\n",
       "    </tr>\n",
       "    <tr>\n",
       "      <th>3</th>\n",
       "      <td>47</td>\n",
       "      <td>blue-collar</td>\n",
       "      <td>married</td>\n",
       "      <td>unknown</td>\n",
       "      <td>no</td>\n",
       "      <td>1506</td>\n",
       "      <td>yes</td>\n",
       "      <td>no</td>\n",
       "      <td>unknown</td>\n",
       "      <td>5</td>\n",
       "      <td>may</td>\n",
       "      <td>92</td>\n",
       "      <td>1</td>\n",
       "      <td>-1</td>\n",
       "      <td>0</td>\n",
       "      <td>unknown</td>\n",
       "      <td>no</td>\n",
       "    </tr>\n",
       "    <tr>\n",
       "      <th>4</th>\n",
       "      <td>33</td>\n",
       "      <td>unknown</td>\n",
       "      <td>single</td>\n",
       "      <td>unknown</td>\n",
       "      <td>no</td>\n",
       "      <td>1</td>\n",
       "      <td>no</td>\n",
       "      <td>no</td>\n",
       "      <td>unknown</td>\n",
       "      <td>5</td>\n",
       "      <td>may</td>\n",
       "      <td>198</td>\n",
       "      <td>1</td>\n",
       "      <td>-1</td>\n",
       "      <td>0</td>\n",
       "      <td>unknown</td>\n",
       "      <td>no</td>\n",
       "    </tr>\n",
       "  </tbody>\n",
       "</table>\n",
       "</div>"
      ],
      "text/plain": [
       "   age           job  marital  education default  balance housing loan  \\\n",
       "0   58    management  married   tertiary      no     2143     yes   no   \n",
       "1   44    technician   single  secondary      no       29     yes   no   \n",
       "2   33  entrepreneur  married  secondary      no        2     yes  yes   \n",
       "3   47   blue-collar  married    unknown      no     1506     yes   no   \n",
       "4   33       unknown   single    unknown      no        1      no   no   \n",
       "\n",
       "   contact  day month  duration  campaign  pdays  previous poutcome   y  \n",
       "0  unknown    5   may       261         1     -1         0  unknown  no  \n",
       "1  unknown    5   may       151         1     -1         0  unknown  no  \n",
       "2  unknown    5   may        76         1     -1         0  unknown  no  \n",
       "3  unknown    5   may        92         1     -1         0  unknown  no  \n",
       "4  unknown    5   may       198         1     -1         0  unknown  no  "
      ]
     },
     "execution_count": 2,
     "metadata": {},
     "output_type": "execute_result"
    }
   ],
   "source": [
    "data = pd.read_csv('/Users/Sriram/Documents/Soundz_Interview_Prep/learning/springboard/capstone_project/data/bank-full.csv',delimiter=\";\")\n",
    "data.columns\n",
    "data.head()"
   ]
  },
  {
   "cell_type": "code",
   "execution_count": 3,
   "metadata": {
    "collapsed": true
   },
   "outputs": [],
   "source": [
    "training_features = ['job', 'education', 'default', 'balance', 'housing','loan']\n",
    "target = 'y'"
   ]
  },
  {
   "cell_type": "code",
   "execution_count": 4,
   "metadata": {},
   "outputs": [
    {
     "name": "stdout",
     "output_type": "stream",
     "text": [
      "train_x size ::  (31647, 6)\n",
      "train_y size ::  (31647,)\n",
      "test_x size ::  (13564, 6)\n",
      "test_y size ::  (13564,)\n"
     ]
    }
   ],
   "source": [
    "train_x, test_x, train_y, test_y = train_test_split(data[training_features], data[target], train_size=0.7)\n",
    "    \n",
    "print(\"train_x size :: \", train_x.shape)\n",
    "print(\"train_y size :: \", train_y.shape)\n",
    " \n",
    "print(\"test_x size :: \", test_x.shape)\n",
    "print(\"test_y size :: \", test_y.shape)"
   ]
  },
  {
   "cell_type": "code",
   "execution_count": 5,
   "metadata": {
    "collapsed": true
   },
   "outputs": [],
   "source": [
    "selectedcols=['job','marital','education','default','housing','loan','contact','month','poutcome']\n",
    "for var in selectedcols:\n",
    "    catlist='var'+'_'+var\n",
    "    catlist = pd.get_dummies(data[var], prefix=var)\n",
    "    data1=data.join(catlist)\n",
    "    data=data1\n",
    "selectedcols=['job','marital','education','default','housing','loan','contact','month','poutcome']\n",
    "data_vars=data.columns.values.tolist()\n",
    "to_keep=[i for i in data_vars if i not in selectedcols]"
   ]
  },
  {
   "cell_type": "code",
   "execution_count": 6,
   "metadata": {},
   "outputs": [
    {
     "name": "stderr",
     "output_type": "stream",
     "text": [
      "/Users/Sriram/anaconda/lib/python3.6/site-packages/ipykernel_launcher.py:2: SettingWithCopyWarning: \n",
      "A value is trying to be set on a copy of a slice from a DataFrame.\n",
      "Try using .loc[row_indexer,col_indexer] = value instead\n",
      "\n",
      "See the caveats in the documentation: http://pandas.pydata.org/pandas-docs/stable/indexing.html#indexing-view-versus-copy\n",
      "  \n"
     ]
    },
    {
     "data": {
      "text/plain": [
       "Index(['age', 'balance', 'day', 'duration', 'campaign', 'pdays', 'previous',\n",
       "       'y', 'job_admin.', 'job_blue-collar', 'job_entrepreneur',\n",
       "       'job_housemaid', 'job_management', 'job_retired', 'job_self-employed',\n",
       "       'job_services', 'job_student', 'job_technician', 'job_unemployed',\n",
       "       'job_unknown', 'marital_divorced', 'marital_married', 'marital_single',\n",
       "       'education_primary', 'education_secondary', 'education_tertiary',\n",
       "       'education_unknown', 'default_no', 'default_yes', 'housing_no',\n",
       "       'housing_yes', 'loan_no', 'loan_yes', 'contact_cellular',\n",
       "       'contact_telephone', 'contact_unknown', 'month_apr', 'month_aug',\n",
       "       'month_dec', 'month_feb', 'month_jan', 'month_jul', 'month_jun',\n",
       "       'month_mar', 'month_may', 'month_nov', 'month_oct', 'month_sep',\n",
       "       'poutcome_failure', 'poutcome_other', 'poutcome_success',\n",
       "       'poutcome_unknown'],\n",
       "      dtype='object')"
      ]
     },
     "execution_count": 6,
     "metadata": {},
     "output_type": "execute_result"
    }
   ],
   "source": [
    "data_final=data[to_keep]\n",
    "data_final['y'] = data_final['y'].map({'yes': 1, 'no': 0})\n",
    "data_final.columns\n"
   ]
  },
  {
   "cell_type": "code",
   "execution_count": 7,
   "metadata": {},
   "outputs": [
    {
     "data": {
      "text/plain": [
       "(45211, 52)"
      ]
     },
     "execution_count": 7,
     "metadata": {},
     "output_type": "execute_result"
    }
   ],
   "source": [
    "data_final_vars=list(data_final.columns.values)\n",
    "Y = ['y']\n",
    "X=[i for i in data_final_vars if i not in Y]\n",
    "data_final.shape"
   ]
  },
  {
   "cell_type": "markdown",
   "metadata": {},
   "source": [
    "Using feature regression we are selecting the features which has most relevance to our problem.\n",
    "We going to take two set of data's. \n",
    "1. 70-30 train and test split for which attributes are selected using feature selection\n",
    "2. 80-20 split with attributes selected from ridgecv.\n",
    "\n",
    "Goal - predict using classification algorithms if a client will subscribe to term deposit.\n",
    "\n",
    "1. Logistic regression\n",
    "2. Decision Tree\n",
    "3. SVM\n",
    "4. Random Forest"
   ]
  },
  {
   "cell_type": "code",
   "execution_count": 8,
   "metadata": {
    "scrolled": true
   },
   "outputs": [
    {
     "name": "stderr",
     "output_type": "stream",
     "text": [
      "/Users/Sriram/anaconda/lib/python3.6/site-packages/sklearn/utils/validation.py:526: DataConversionWarning: A column-vector y was passed when a 1d array was expected. Please change the shape of y to (n_samples, ), for example using ravel().\n",
      "  y = column_or_1d(y, warn=True)\n"
     ]
    },
    {
     "name": "stdout",
     "output_type": "stream",
     "text": [
      "[False False False False False False False False False False False False\n",
      " False False False  True False False False False False False False False\n",
      " False False False False False  True False  True False False  True False\n",
      "  True  True  True  True  True False  True  True  True  True  True  True\n",
      "  True  True  True]\n",
      "[32 34 29 31 16 33 28 26 19 11  6 25  2 22 21  1 24  7 14 17  4 27  5  9 23\n",
      " 10 12  8 20  1 30  1  3 13  1 18  1  1  1  1  1 15  1  1  1  1  1  1  1  1\n",
      "  1]\n"
     ]
    }
   ],
   "source": [
    "logreg = LogisticRegression()\n",
    "rfe = RFE(logreg, 18)\n",
    "rfe = rfe.fit(data_final[X], data_final[Y])\n",
    "print(rfe.support_)\n",
    "print(rfe.ranking_)"
   ]
  },
  {
   "cell_type": "markdown",
   "metadata": {},
   "source": [
    "Using LassoCV and RidgeCV to estimate cooeficient of the attributes. The values greather than zero indicates feature importance"
   ]
  },
  {
   "cell_type": "code",
   "execution_count": 9,
   "metadata": {},
   "outputs": [
    {
     "name": "stderr",
     "output_type": "stream",
     "text": [
      "/Users/Sriram/anaconda/lib/python3.6/site-packages/sklearn/linear_model/coordinate_descent.py:1082: DataConversionWarning: A column-vector y was passed when a 1d array was expected. Please change the shape of y to (n_samples, ), for example using ravel().\n",
      "  y = column_or_1d(y, warn=True)\n"
     ]
    },
    {
     "name": "stdout",
     "output_type": "stream",
     "text": [
      "CV [  0.00000000e+00   4.63660318e-06  -0.00000000e+00   4.89827630e-04\n",
      "  -0.00000000e+00   3.23741537e-04   0.00000000e+00   0.00000000e+00\n",
      "  -0.00000000e+00  -0.00000000e+00  -0.00000000e+00   0.00000000e+00\n",
      "   0.00000000e+00  -0.00000000e+00  -0.00000000e+00   0.00000000e+00\n",
      "  -0.00000000e+00   0.00000000e+00   0.00000000e+00   0.00000000e+00\n",
      "  -0.00000000e+00   0.00000000e+00  -0.00000000e+00  -0.00000000e+00\n",
      "   0.00000000e+00   0.00000000e+00   0.00000000e+00  -0.00000000e+00\n",
      "   0.00000000e+00  -0.00000000e+00   0.00000000e+00  -0.00000000e+00\n",
      "   0.00000000e+00   0.00000000e+00  -0.00000000e+00   0.00000000e+00\n",
      "   0.00000000e+00   0.00000000e+00   0.00000000e+00  -0.00000000e+00\n",
      "  -0.00000000e+00   0.00000000e+00   0.00000000e+00  -0.00000000e+00\n",
      "  -0.00000000e+00   0.00000000e+00   0.00000000e+00  -0.00000000e+00\n",
      "  -0.00000000e+00   0.00000000e+00  -0.00000000e+00]\n"
     ]
    }
   ],
   "source": [
    "lassocv = linear_model.LassoCV()\n",
    "lassocv.fit(data_final[X], data_final[Y])\n",
    "lassocv_score = lassocv.score(data_final[X], data_final[Y])\n",
    "lassocv_alpha = lassocv.alpha_\n",
    "print('CV', lassocv.coef_)"
   ]
  },
  {
   "cell_type": "markdown",
   "metadata": {},
   "source": [
    "LassoCV is unstable in a similar way as unregularized linear models are meaning that the coefficients (and thus feature ranks) can vary significantly even on small data changes when there are correlated features in the data. \n",
    "So we will use RidgeCV which is L2 regularization."
   ]
  },
  {
   "cell_type": "code",
   "execution_count": 10,
   "metadata": {},
   "outputs": [
    {
     "name": "stderr",
     "output_type": "stream",
     "text": [
      "/Users/Sriram/anaconda/lib/python3.6/site-packages/sklearn/metrics/scorer.py:90: DeprecationWarning: Scoring method mean_squared_error was renamed to neg_mean_squared_error in version 0.18 and will be removed in 0.20.\n",
      "  sample_weight=sample_weight)\n",
      "/Users/Sriram/anaconda/lib/python3.6/site-packages/sklearn/metrics/scorer.py:90: DeprecationWarning: Scoring method mean_squared_error was renamed to neg_mean_squared_error in version 0.18 and will be removed in 0.20.\n",
      "  sample_weight=sample_weight)\n",
      "/Users/Sriram/anaconda/lib/python3.6/site-packages/sklearn/metrics/scorer.py:90: DeprecationWarning: Scoring method mean_squared_error was renamed to neg_mean_squared_error in version 0.18 and will be removed in 0.20.\n",
      "  sample_weight=sample_weight)\n",
      "/Users/Sriram/anaconda/lib/python3.6/site-packages/sklearn/metrics/scorer.py:90: DeprecationWarning: Scoring method mean_squared_error was renamed to neg_mean_squared_error in version 0.18 and will be removed in 0.20.\n",
      "  sample_weight=sample_weight)\n",
      "/Users/Sriram/anaconda/lib/python3.6/site-packages/sklearn/metrics/scorer.py:90: DeprecationWarning: Scoring method mean_squared_error was renamed to neg_mean_squared_error in version 0.18 and will be removed in 0.20.\n",
      "  sample_weight=sample_weight)\n",
      "/Users/Sriram/anaconda/lib/python3.6/site-packages/sklearn/metrics/scorer.py:90: DeprecationWarning: Scoring method mean_squared_error was renamed to neg_mean_squared_error in version 0.18 and will be removed in 0.20.\n",
      "  sample_weight=sample_weight)\n"
     ]
    },
    {
     "data": {
      "text/plain": [
       "array([[  1.78486103e-04,   1.23567387e-06,   9.75015223e-04,\n",
       "          4.71030004e-04,  -1.54446208e-03,  -6.26637114e-05,\n",
       "          1.07178610e-03,   8.26886427e-03,  -9.66469687e-03,\n",
       "         -1.53656136e-02,  -2.44566146e-02,  -1.57358670e-03,\n",
       "          3.66123044e-02,  -1.25015871e-02,  -4.52272247e-03,\n",
       "          7.91400027e-02,  -2.19043168e-03,   2.34920720e-03,\n",
       "         -1.79805784e-02,   1.89857027e-03,  -9.93505405e-03,\n",
       "          1.07808126e-02,  -1.16329930e-02,  -4.57588458e-03,\n",
       "          1.26917122e-02,   8.79895942e-05,   5.13786599e-04,\n",
       "         -5.13786599e-04,   2.44419129e-02,  -2.44419129e-02,\n",
       "          1.19593793e-02,  -1.19593793e-02,   3.80648198e-02,\n",
       "          2.59060503e-02,  -4.99562606e-02,   3.11688479e-02,\n",
       "         -4.15722200e-02,   1.66834891e-01,   1.43292787e-02,\n",
       "         -8.13095368e-02,  -4.24800029e-02,   4.52094903e-02,\n",
       "          3.09020021e-01,  -1.53331336e-03,  -4.57736682e-02,\n",
       "          1.87699607e-01,   1.94642533e-01,  -3.75707951e-02,\n",
       "         -1.44405894e-02,   3.76726217e-01,  -5.34472273e-02]])"
      ]
     },
     "execution_count": 10,
     "metadata": {},
     "output_type": "execute_result"
    }
   ],
   "source": [
    "alpha_range = 10.**np.arange(-3, 3)\n",
    "from sklearn.linear_model import RidgeCV\n",
    "ridgeregcv = RidgeCV(alphas=alpha_range, normalize=True, scoring='mean_squared_error')\n",
    "ridgeregcv.fit(data_final[X], data_final[Y])\n",
    "ridgeregcv.alpha_\n",
    "ridgeregcv.coef_"
   ]
  },
  {
   "cell_type": "markdown",
   "metadata": {},
   "source": [
    "Using RidgeCV we have obtained 25 features which are important for our data prediction"
   ]
  },
  {
   "cell_type": "code",
   "execution_count": 11,
   "metadata": {},
   "outputs": [
    {
     "data": {
      "text/plain": [
       "Index(['age', 'balance', 'day', 'duration', 'campaign', 'pdays', 'previous',\n",
       "       'job_admin.', 'job_blue-collar', 'job_entrepreneur', 'job_housemaid',\n",
       "       'job_management', 'job_retired', 'job_self-employed', 'job_services',\n",
       "       'job_student', 'job_technician', 'job_unemployed', 'job_unknown',\n",
       "       'marital_divorced', 'marital_married', 'marital_single',\n",
       "       'education_primary', 'education_secondary', 'education_tertiary',\n",
       "       'education_unknown', 'default_no', 'default_yes', 'housing_no',\n",
       "       'housing_yes', 'loan_no', 'loan_yes', 'contact_cellular',\n",
       "       'contact_telephone', 'contact_unknown', 'month_apr', 'month_aug',\n",
       "       'month_dec', 'month_feb', 'month_jan', 'month_jul', 'month_jun',\n",
       "       'month_mar', 'month_may', 'month_nov', 'month_oct', 'month_sep',\n",
       "       'poutcome_failure', 'poutcome_other', 'poutcome_success',\n",
       "       'poutcome_unknown'],\n",
       "      dtype='object')"
      ]
     },
     "execution_count": 11,
     "metadata": {},
     "output_type": "execute_result"
    }
   ],
   "source": [
    "data_final[X].columns"
   ]
  },
  {
   "cell_type": "markdown",
   "metadata": {},
   "source": [
    "Feature Selection -18 attributes for our first set of analysis"
   ]
  },
  {
   "cell_type": "code",
   "execution_count": 12,
   "metadata": {
    "collapsed": true
   },
   "outputs": [],
   "source": [
    "cols=['job_student','housing_yes','loan_yes','contact_unknown','month_aug', 'month_dec', 'month_feb','month_jan', 'month_jul','month_mar', 'month_may', 'month_nov', 'month_oct', 'month_sep', 'poutcome_failure', 'poutcome_other', 'poutcome_success','poutcome_unknown'] \n",
    "X1=data_final[cols]\n",
    "Y1=data_final['y']\n"
   ]
  },
  {
   "cell_type": "code",
   "execution_count": 13,
   "metadata": {},
   "outputs": [
    {
     "data": {
      "text/plain": [
       "0    0\n",
       "1    0\n",
       "2    0\n",
       "3    0\n",
       "4    0\n",
       "Name: y, dtype: int64"
      ]
     },
     "execution_count": 13,
     "metadata": {},
     "output_type": "execute_result"
    }
   ],
   "source": [
    "X1.head()\n",
    "Y1.head()"
   ]
  },
  {
   "cell_type": "markdown",
   "metadata": {},
   "source": [
    "Logistic regression - Since the values of our considered data set are binary than linear we are going to use logistic regression model for our prediction.\n",
    "\n",
    "From our logistic regression we obtain a p value of zero meaning its statistically highly significant as P < 0.001 "
   ]
  },
  {
   "cell_type": "code",
   "execution_count": 14,
   "metadata": {},
   "outputs": [
    {
     "name": "stderr",
     "output_type": "stream",
     "text": [
      "/Users/Sriram/anaconda/lib/python3.6/site-packages/statsmodels/compat/pandas.py:56: FutureWarning: The pandas.core.datetools module is deprecated and will be removed in a future version. Please use the pandas.tseries module instead.\n",
      "  from pandas.core import datetools\n"
     ]
    },
    {
     "name": "stdout",
     "output_type": "stream",
     "text": [
      "Optimization terminated successfully.\n",
      "         Current function value: 0.304282\n",
      "         Iterations 7\n",
      "                           Logit Regression Results                           \n",
      "==============================================================================\n",
      "Dep. Variable:                      y   No. Observations:                45211\n",
      "Model:                          Logit   Df Residuals:                    45193\n",
      "Method:                           MLE   Df Model:                           17\n",
      "Date:                Sun, 21 Jan 2018   Pseudo R-squ.:                  0.1568\n",
      "Time:                        16:35:20   Log-Likelihood:                -13757.\n",
      "converged:                       True   LL-Null:                       -16315.\n",
      "                                        LLR p-value:                     0.000\n",
      "====================================================================================\n",
      "                       coef    std err          z      P>|z|      [0.025      0.975]\n",
      "------------------------------------------------------------------------------------\n",
      "job_student          0.4880      0.084      5.789      0.000       0.323       0.653\n",
      "housing_yes         -0.6038      0.037    -16.491      0.000      -0.676      -0.532\n",
      "loan_yes            -0.4315      0.053     -8.210      0.000      -0.535      -0.329\n",
      "contact_unknown     -1.3410      0.055    -24.285      0.000      -1.449      -1.233\n",
      "month_aug           -1.0245      0.059    -17.398      0.000      -1.140      -0.909\n",
      "month_dec            0.5612      0.158      3.557      0.000       0.252       0.870\n",
      "month_feb           -0.4673      0.067     -6.933      0.000      -0.599      -0.335\n",
      "month_jan           -1.0951      0.101    -10.867      0.000      -1.293      -0.898\n",
      "month_jul           -0.8802      0.059    -14.808      0.000      -0.997      -0.764\n",
      "month_mar            1.0887      0.105     10.384      0.000       0.883       1.294\n",
      "month_may           -0.5557      0.051    -10.831      0.000      -0.656      -0.455\n",
      "month_nov           -0.8945      0.067    -13.354      0.000      -1.026      -0.763\n",
      "month_oct            0.6699      0.091      7.386      0.000       0.492       0.848\n",
      "month_sep            0.6653      0.101      6.593      0.000       0.468       0.863\n",
      "poutcome_failure    -1.1291      0.059    -19.018      0.000      -1.245      -1.013\n",
      "poutcome_other      -0.8759      0.076    -11.468      0.000      -1.026      -0.726\n",
      "poutcome_success     1.1733      0.069     17.014      0.000       1.038       1.309\n",
      "poutcome_unknown    -1.0946      0.045    -24.492      0.000      -1.182      -1.007\n",
      "====================================================================================\n"
     ]
    }
   ],
   "source": [
    "import statsmodels.api as sm\n",
    "logit_model=sm.Logit(Y1,X1)\n",
    "result=logit_model.fit()\n",
    "print(result.summary())\n"
   ]
  },
  {
   "cell_type": "markdown",
   "metadata": {},
   "source": [
    "We can infer that the value of p from logistic regression is zero."
   ]
  },
  {
   "cell_type": "code",
   "execution_count": 15,
   "metadata": {},
   "outputs": [
    {
     "data": {
      "text/plain": [
       "Index(['age', 'balance', 'day', 'duration', 'campaign', 'pdays', 'previous',\n",
       "       'y', 'job_admin.', 'job_blue-collar', 'job_entrepreneur',\n",
       "       'job_housemaid', 'job_management', 'job_retired', 'job_self-employed',\n",
       "       'job_services', 'job_student', 'job_technician', 'job_unemployed',\n",
       "       'job_unknown', 'marital_divorced', 'marital_married', 'marital_single',\n",
       "       'education_primary', 'education_secondary', 'education_tertiary',\n",
       "       'education_unknown', 'default_no', 'default_yes', 'housing_no',\n",
       "       'housing_yes', 'loan_no', 'loan_yes', 'contact_cellular',\n",
       "       'contact_telephone', 'contact_unknown', 'month_apr', 'month_aug',\n",
       "       'month_dec', 'month_feb', 'month_jan', 'month_jul', 'month_jun',\n",
       "       'month_mar', 'month_may', 'month_nov', 'month_oct', 'month_sep',\n",
       "       'poutcome_failure', 'poutcome_other', 'poutcome_success',\n",
       "       'poutcome_unknown'],\n",
       "      dtype='object')"
      ]
     },
     "execution_count": 15,
     "metadata": {},
     "output_type": "execute_result"
    }
   ],
   "source": [
    "data_final.columns"
   ]
  },
  {
   "cell_type": "markdown",
   "metadata": {},
   "source": [
    "Logistic Regression is done on 70-30% train and test split. From the below prediction its clear that we get a accuracy of 0.89 using logistic regression.\n",
    "\n",
    "With Precision Score and Recall score of 0.61 and 0.19"
   ]
  },
  {
   "cell_type": "code",
   "execution_count": 16,
   "metadata": {
    "collapsed": true
   },
   "outputs": [],
   "source": [
    "X_train, X_test, y_train, y_test = train_test_split(X1, Y1, test_size=0.3, random_state=0)\n",
    "from sklearn.linear_model import LogisticRegression\n",
    "from sklearn import metrics\n",
    "logreg = LogisticRegression()\n",
    "lreg = logreg.fit(X_train, y_train)"
   ]
  },
  {
   "cell_type": "code",
   "execution_count": 17,
   "metadata": {},
   "outputs": [
    {
     "name": "stdout",
     "output_type": "stream",
     "text": [
      "Accuracy of logistic regression classifier on test set: 0.89\n",
      "Precision score for logistic regression classifier 0.61\n",
      "Recall score for logistic regression classifier 0.19\n"
     ]
    }
   ],
   "source": [
    "y_pred = logreg.predict(X_test)\n",
    "print('Accuracy of logistic regression classifier on test set: {:.2f}'.format(logreg.score(X_test, y_test)))\n",
    "print('Precision score for logistic regression classifier {:.2f}'.format(precision_score(y_test, lreg.predict(X_test))))\n",
    "print('Recall score for logistic regression classifier {:.2f}'.format(recall_score(y_test, lreg.predict(X_test))))"
   ]
  },
  {
   "cell_type": "code",
   "execution_count": 18,
   "metadata": {},
   "outputs": [
    {
     "name": "stdout",
     "output_type": "stream",
     "text": [
      "[[11774   195]\n",
      " [ 1289   306]]\n"
     ]
    }
   ],
   "source": [
    "print(metrics.confusion_matrix(y_test, y_pred))"
   ]
  },
  {
   "cell_type": "markdown",
   "metadata": {},
   "source": [
    "From logisticregression we can see that predictive model for this data set is 0.89 percent accurate. We will analysis the confusion matrix for all the models at later part of our experiment."
   ]
  },
  {
   "cell_type": "markdown",
   "metadata": {},
   "source": [
    "Apply kfold cross validation on the test and train split. With varying the number of fold we found that 3 split provided more accuracy."
   ]
  },
  {
   "cell_type": "code",
   "execution_count": 19,
   "metadata": {},
   "outputs": [
    {
     "name": "stdout",
     "output_type": "stream",
     "text": [
      "k-fold cross validation average accuracy: 0.89\n"
     ]
    }
   ],
   "source": [
    "\n",
    "kfold = model_selection.KFold(n_splits=3, random_state=7)\n",
    "modelCV = LogisticRegression()\n",
    "scoring = 'accuracy'\n",
    "results = model_selection.cross_val_score(modelCV, X_train, y_train, cv=kfold, scoring=scoring)\n",
    "print(\"k-fold cross validation average accuracy: %.2f\" % (results.mean()))"
   ]
  },
  {
   "cell_type": "code",
   "execution_count": 20,
   "metadata": {},
   "outputs": [
    {
     "data": {
      "image/png": "[encoded data removed]",
      "text/plain": [
       "<matplotlib.figure.Figure at 0x10faddf98>"
      ]
     },
     "metadata": {},
     "output_type": "display_data"
    }
   ],
   "source": [
    "\n",
    "logit_roc_auc = roc_auc_score(y_test, logreg.predict(X_test))\n",
    "fpr, tpr, thresholds = roc_curve(y_test, logreg.predict_proba(X_test)[:,1])\n",
    "plt.figure()\n",
    "plt.plot(fpr, tpr, label='Logistic Regression (area = %0.2f)' % logit_roc_auc)\n",
    "plt.plot([0, 1], [0, 1],'r--')\n",
    "plt.xlim([0.0, 1.0])\n",
    "plt.ylim([0.0, 1.05])\n",
    "plt.xlabel('False Positive Rate')\n",
    "plt.ylabel('True Positive Rate')\n",
    "plt.title('Receiver operating characteristic')\n",
    "plt.legend(loc=\"lower right\")\n",
    "plt.savefig('Log_ROC')\n",
    "plt.show()"
   ]
  },
  {
   "cell_type": "code",
   "execution_count": 21,
   "metadata": {
    "collapsed": true
   },
   "outputs": [],
   "source": [
    "X2 = data_final[X]\n",
    "Y2 = data_final[Y]\n"
   ]
  },
  {
   "cell_type": "markdown",
   "metadata": {},
   "source": [
    "Decision Tree model with entropy and gini with max depth of 810 on train and test data"
   ]
  },
  {
   "cell_type": "code",
   "execution_count": 22,
   "metadata": {
    "collapsed": true
   },
   "outputs": [],
   "source": [
    "x_train0, x_test0, y_train0, y_test0 = train_test_split(X2, Y2,test_size =0.3)"
   ]
  },
  {
   "cell_type": "code",
   "execution_count": 23,
   "metadata": {
    "collapsed": true
   },
   "outputs": [],
   "source": [
    "model_dt1 = DecisionTreeClassifier(max_depth = 810, criterion =\"entropy\")\n",
    "model_dt1.fit(x_train0, y_train0)\n",
    "y_pred_dt0 = model_dt1.predict_proba(x_test0)[:, 1]"
   ]
  },
  {
   "cell_type": "code",
   "execution_count": 24,
   "metadata": {
    "collapsed": true
   },
   "outputs": [],
   "source": [
    "model_dt = DecisionTreeClassifier(max_depth = 810, criterion =\"gini\")\n",
    "model_dt.fit(x_train0, y_train0)\n",
    "y_pred_dt0 = model_dt.predict_proba(x_test0)[:, 1]\n"
   ]
  },
  {
   "cell_type": "code",
   "execution_count": 25,
   "metadata": {},
   "outputs": [
    {
     "data": {
      "text/plain": [
       "array([ 0.07640066,  0.09678693,  0.08986869,  0.28525032,  0.02907244,\n",
       "        0.04075604,  0.01200318,  0.00640748,  0.00385199,  0.00273754,\n",
       "        0.0018587 ,  0.00843887,  0.00163144,  0.00194765,  0.0052257 ,\n",
       "        0.0018658 ,  0.00807399,  0.00267865,  0.00070746,  0.00620496,\n",
       "        0.00759769,  0.00705496,  0.00352033,  0.00917196,  0.00867919,\n",
       "        0.0041379 ,  0.        ,  0.00040911,  0.02169813,  0.00464135,\n",
       "        0.00564278,  0.00406822,  0.00467159,  0.00132331,  0.0335148 ,\n",
       "        0.01084628,  0.0108959 ,  0.00339541,  0.01323827,  0.00613526,\n",
       "        0.01140925,  0.00791169,  0.00920973,  0.00921278,  0.00973743,\n",
       "        0.01313534,  0.00686206,  0.00305082,  0.00180354,  0.08426791,\n",
       "        0.00098851])"
      ]
     },
     "execution_count": 25,
     "metadata": {},
     "output_type": "execute_result"
    }
   ],
   "source": [
    "model_dt1.feature_importances_"
   ]
  },
  {
   "cell_type": "code",
   "execution_count": 26,
   "metadata": {},
   "outputs": [
    {
     "data": {
      "text/plain": [
       "Index(['age', 'balance', 'day', 'duration', 'campaign', 'pdays', 'previous',\n",
       "       'job_admin.', 'job_blue-collar', 'job_entrepreneur', 'job_housemaid',\n",
       "       'job_management', 'job_retired', 'job_self-employed', 'job_services',\n",
       "       'job_student', 'job_technician', 'job_unemployed', 'job_unknown',\n",
       "       'marital_divorced', 'marital_married', 'marital_single',\n",
       "       'education_primary', 'education_secondary', 'education_tertiary',\n",
       "       'education_unknown', 'default_no', 'default_yes', 'housing_no',\n",
       "       'housing_yes', 'loan_no', 'loan_yes', 'contact_cellular',\n",
       "       'contact_telephone', 'contact_unknown', 'month_apr', 'month_aug',\n",
       "       'month_dec', 'month_feb', 'month_jan', 'month_jul', 'month_jun',\n",
       "       'month_mar', 'month_may', 'month_nov', 'month_oct', 'month_sep',\n",
       "       'poutcome_failure', 'poutcome_other', 'poutcome_success',\n",
       "       'poutcome_unknown'],\n",
       "      dtype='object')"
      ]
     },
     "execution_count": 26,
     "metadata": {},
     "output_type": "execute_result"
    }
   ],
   "source": [
    "x_train0.columns"
   ]
  },
  {
   "cell_type": "code",
   "execution_count": 27,
   "metadata": {},
   "outputs": [
    {
     "data": {
      "text/plain": [
       "array([ 0.08270458,  0.10661154,  0.07724675,  0.270589  ,  0.03480322,\n",
       "        0.04423081,  0.01269639,  0.00946458,  0.00436355,  0.00553483,\n",
       "        0.00351583,  0.00604673,  0.00271574,  0.00355286,  0.0061922 ,\n",
       "        0.00580957,  0.0067507 ,  0.00449237,  0.00138498,  0.00717281,\n",
       "        0.01129046,  0.0076355 ,  0.00476068,  0.007315  ,  0.00738013,\n",
       "        0.00489963,  0.00035543,  0.00165163,  0.02245806,  0.00314607,\n",
       "        0.00449704,  0.00399971,  0.00649363,  0.00052174,  0.00922815,\n",
       "        0.01545006,  0.00712061,  0.00409499,  0.0090784 ,  0.00393501,\n",
       "        0.00594432,  0.01360306,  0.01383085,  0.00957393,  0.00831039,\n",
       "        0.01315213,  0.00583192,  0.00409041,  0.00372935,  0.08909357,\n",
       "        0.00164908])"
      ]
     },
     "execution_count": 27,
     "metadata": {},
     "output_type": "execute_result"
    }
   ],
   "source": [
    "model_dt.feature_importances_"
   ]
  },
  {
   "cell_type": "code",
   "execution_count": 28,
   "metadata": {
    "collapsed": true
   },
   "outputs": [],
   "source": [
    "fpr_dt, tpr_dt,_ = roc_curve(y_test0, y_pred_dt0)\n",
    "roc_auc_dt = auc(fpr_dt, tpr_dt)"
   ]
  },
  {
   "cell_type": "code",
   "execution_count": 29,
   "metadata": {},
   "outputs": [
    {
     "name": "stdout",
     "output_type": "stream",
     "text": [
      "Precision score for Decision Tree0.47 \n",
      "Recall score for Decision Tree 0.46 \n",
      "Confusion Matrix for Decision Tree \n",
      " [[11150   829]\n",
      " [  856   729]]\n"
     ]
    }
   ],
   "source": [
    "print('Precision score for Decision Tree{:.2f} '.format(precision_score(y_test0,y_pred_dt0)))\n",
    "print('Recall score for Decision Tree {:.2f} '.format(recall_score(y_test0, y_pred_dt0)))\n",
    "print('Confusion Matrix for Decision Tree \\n',metrics.confusion_matrix(y_test0, y_pred_dt0))"
   ]
  },
  {
   "cell_type": "code",
   "execution_count": 30,
   "metadata": {},
   "outputs": [
    {
     "data": {
      "text/plain": [
       "[<matplotlib.lines.Line2D at 0x11171ff98>]"
      ]
     },
     "execution_count": 30,
     "metadata": {},
     "output_type": "execute_result"
    },
    {
     "data": {
      "image/png": "[encoded data removed]",
      "text/plain": [
       "<matplotlib.figure.Figure at 0x1133f3a20>"
      ]
     },
     "metadata": {},
     "output_type": "display_data"
    }
   ],
   "source": [
    "plt.plot(fpr_dt, tpr_dt, color='green',\n",
    "         lw=2, label='Decision Tree(AUC = %0.2f)' % roc_auc_dt)"
   ]
  },
  {
   "cell_type": "markdown",
   "metadata": {},
   "source": [
    "Applying SVM model on train and test split with 70-30% "
   ]
  },
  {
   "cell_type": "code",
   "execution_count": 31,
   "metadata": {
    "collapsed": true
   },
   "outputs": [],
   "source": [
    "x_train1, x_test1, y_train1, y_test1 = train_test_split(X2, Y2,test_size =0.3)"
   ]
  },
  {
   "cell_type": "code",
   "execution_count": 32,
   "metadata": {},
   "outputs": [
    {
     "name": "stderr",
     "output_type": "stream",
     "text": [
      "/Users/Sriram/anaconda/lib/python3.6/site-packages/sklearn/utils/validation.py:526: DataConversionWarning: A column-vector y was passed when a 1d array was expected. Please change the shape of y to (n_samples, ), for example using ravel().\n",
      "  y = column_or_1d(y, warn=True)\n"
     ]
    }
   ],
   "source": [
    "model_bayes = svm.SVC()\n",
    "\n",
    "model_bayes.fit(x_train1, y_train1)\n",
    "pred_bayes = model_bayes.fit(x_train1, y_train1)\n",
    "y_pred_bayes = pred_bayes.decision_function(x_test1)\n",
    "fprbayes, tprbayes, _= roc_curve(y_test1, y_pred_bayes)\n",
    "roc_auc_bayes = auc(fprbayes, tprbayes)"
   ]
  },
  {
   "cell_type": "code",
   "execution_count": 33,
   "metadata": {},
   "outputs": [
    {
     "name": "stdout",
     "output_type": "stream",
     "text": [
      "Precision score for SVM0.50 \n",
      "Recall score for SVM 0.00\n",
      "Confusion Matrix for SVM \n",
      " [[11954     1]\n",
      " [ 1608     1]]\n"
     ]
    }
   ],
   "source": [
    "print('Precision score for SVM{:.2f} '.format(precision_score(y_test1,pred_bayes.predict(x_test1) )))\n",
    "print('Recall score for SVM {:.2f}'.format(recall_score(y_test1,pred_bayes.predict(x_test1))))\n",
    "print('Confusion Matrix for SVM \\n', metrics.confusion_matrix(y_test1, pred_bayes.predict(x_test1)))"
   ]
  },
  {
   "cell_type": "code",
   "execution_count": 34,
   "metadata": {},
   "outputs": [
    {
     "data": {
      "text/plain": [
       "[<matplotlib.lines.Line2D at 0x115285d30>]"
      ]
     },
     "execution_count": 34,
     "metadata": {},
     "output_type": "execute_result"
    },
    {
     "data": {
      "image/png": "[encoded data removed]",
      "text/plain": [
       "<matplotlib.figure.Figure at 0x1152dbfd0>"
      ]
     },
     "metadata": {},
     "output_type": "display_data"
    }
   ],
   "source": [
    "plt.plot(fprbayes, tprbayes, color='blue',lw=2, label='svm(AUC = %0.5f)' % roc_auc_bayes)"
   ]
  },
  {
   "cell_type": "markdown",
   "metadata": {},
   "source": [
    "Random Forest on 70-30% train and test set"
   ]
  },
  {
   "cell_type": "code",
   "execution_count": 35,
   "metadata": {
    "collapsed": true
   },
   "outputs": [],
   "source": [
    "x_train2, x_test2, y_train2, y_test2 = train_test_split(X2, Y2,test_size =0.3)"
   ]
  },
  {
   "cell_type": "code",
   "execution_count": 36,
   "metadata": {},
   "outputs": [
    {
     "data": {
      "text/plain": [
       "y    13564\n",
       "dtype: int64"
      ]
     },
     "execution_count": 36,
     "metadata": {},
     "output_type": "execute_result"
    }
   ],
   "source": [
    "y_test2.count()\n"
   ]
  },
  {
   "cell_type": "code",
   "execution_count": 37,
   "metadata": {},
   "outputs": [
    {
     "data": {
      "text/plain": [
       "y    0.114863\n",
       "dtype: float64"
      ]
     },
     "execution_count": 37,
     "metadata": {},
     "output_type": "execute_result"
    }
   ],
   "source": [
    "y_test2.loc[y_test2['y'] == 1].count()/y_test2.count()"
   ]
  },
  {
   "cell_type": "code",
   "execution_count": 38,
   "metadata": {},
   "outputs": [
    {
     "name": "stderr",
     "output_type": "stream",
     "text": [
      "/Users/Sriram/anaconda/lib/python3.6/site-packages/ipykernel_launcher.py:2: DataConversionWarning: A column-vector y was passed when a 1d array was expected. Please change the shape of y to (n_samples,), for example using ravel().\n",
      "  \n"
     ]
    }
   ],
   "source": [
    "model_rf = RandomForestClassifier(max_depth = 10, n_estimators = 150)\n",
    "model_pred = model_rf.fit(x_train2, y_train2)\n",
    "y_pred_rf = model_rf.predict_proba(x_test2)[:, 1]\n",
    "\n",
    "fpr_rf, tpr_rf, _ = roc_curve(y_test2, y_pred_rf)\n",
    "roc_auc_rf = auc(fpr_rf, tpr_rf)\n"
   ]
  },
  {
   "cell_type": "code",
   "execution_count": 39,
   "metadata": {},
   "outputs": [
    {
     "name": "stdout",
     "output_type": "stream",
     "text": [
      "Precision score for Random forest0.75 \n",
      "Recall score for Random forest 0.19\n",
      "Confusion Matrix for Random forest \n",
      "  [[11908    98]\n",
      " [ 1260   298]]\n"
     ]
    }
   ],
   "source": [
    "print('Precision score for Random forest{:.2f} '.format(precision_score(y_test2,model_pred.predict(x_test2))))\n",
    "print('Recall score for Random forest {:.2f}'.format(recall_score(y_test2,model_pred.predict(x_test2))))\n",
    "print('Confusion Matrix for Random forest \\n ', metrics.confusion_matrix(y_test2, model_pred.predict(x_test2)))"
   ]
  },
  {
   "cell_type": "code",
   "execution_count": 40,
   "metadata": {},
   "outputs": [
    {
     "data": {
      "text/plain": [
       "[<matplotlib.lines.Line2D at 0x113c6b470>]"
      ]
     },
     "execution_count": 40,
     "metadata": {},
     "output_type": "execute_result"
    },
    {
     "data": {
      "image/png": "[encoded data removed]",
      "text/plain": [
       "<matplotlib.figure.Figure at 0x1157c7668>"
      ]
     },
     "metadata": {},
     "output_type": "display_data"
    }
   ],
   "source": [
    "plt.plot(fpr_rf, tpr_rf, color='red',lw=2, label='Random Forest(AUC = %0.2f)' % roc_auc_rf)"
   ]
  },
  {
   "cell_type": "markdown",
   "metadata": {},
   "source": [
    "Below chart displays the ROC with False and True rates for each of the above models "
   ]
  },
  {
   "cell_type": "code",
   "execution_count": 41,
   "metadata": {},
   "outputs": [
    {
     "data": {
      "text/plain": [
       "<matplotlib.legend.Legend at 0x113db3860>"
      ]
     },
     "execution_count": 41,
     "metadata": {},
     "output_type": "execute_result"
    },
    {
     "data": {
      "image/png": "[encoded data removed]",
      "text/plain": [
       "<matplotlib.figure.Figure at 0x1116ad7f0>"
      ]
     },
     "metadata": {},
     "output_type": "display_data"
    }
   ],
   "source": [
    "plt.plot(fpr_dt, tpr_dt, color='green',\n",
    "         lw=2, label='Decision Tree(AUC = %0.2f)' % roc_auc_dt)\n",
    "plt.plot(fprbayes, tprbayes, color='blue',\n",
    "         lw=2, label='svm(AUC = %0.5f)' % roc_auc_bayes)\n",
    "plt.plot(fpr_rf, tpr_rf, color='red',\n",
    "         lw=2, label='Random Forest(AUC = %0.2f)' % roc_auc_rf)\n",
    "plt.plot([0, 1], [0, 1], color='navy', lw=2, linestyle='--')\n",
    "\n",
    "plt.xlim([0.0, 1.0])\n",
    "plt.ylim([0.0, 1.0])\n",
    "plt.xlabel('False Positive Rate')\n",
    "plt.ylabel('True Positive Rate')\n",
    "plt.title('Receiver Operating Characteristic')\n",
    "plt.legend(loc=\"lower right\")"
   ]
  },
  {
   "cell_type": "markdown",
   "metadata": {},
   "source": [
    "* Logistic - Accuracy of logistic regression classifier on test set: 0.89\n",
    "* Precision score for logistic regression classifier 0.60\n",
    "* Decision - Precision score for Decision Tree 0.48 \n",
    "* SVM - Precision score for SVM 0.33\n",
    "* Random Forest - Precision score for Random forest 0.79\n",
    "\n",
    "From the precision score its clear that Random forest has the highest score compared to other classification techniques. And Accuracy of logistic regression is higher and closer to 1\n"
   ]
  },
  {
   "cell_type": "markdown",
   "metadata": {},
   "source": [
    "For predicting if a client will subscribe to term deposit or not, the main point to consider while evaluating our models is recall score. Since the number of false negatives and true negatives are important.\n",
    "\n",
    "Below list the recall score and confusion matrix for all the 4 models which we used to do our predictive analysis"
   ]
  },
  {
   "cell_type": "code",
   "execution_count": 42,
   "metadata": {},
   "outputs": [
    {
     "name": "stdout",
     "output_type": "stream",
     "text": [
      "Recall score for logistic regression classifier 0.19\n",
      "Recall score for Decision Tree 0.46 \n",
      "Recall score for SVM 0.00\n",
      "Recall score for Random forest 0.19\n"
     ]
    }
   ],
   "source": [
    "print('Recall score for logistic regression classifier {:.2f}'.format(recall_score(y_test, lreg.predict(X_test))))\n",
    "print('Recall score for Decision Tree {:.2f} '.format(recall_score(y_test0, y_pred_dt0)))\n",
    "print('Recall score for SVM {:.2f}'.format(recall_score(y_test1,pred_bayes.predict(x_test1))))\n",
    "print('Recall score for Random forest {:.2f}'.format(recall_score(y_test2,model_pred.predict(x_test2))))"
   ]
  },
  {
   "cell_type": "code",
   "execution_count": 43,
   "metadata": {},
   "outputs": [
    {
     "name": "stdout",
     "output_type": "stream",
     "text": [
      "Confusion matrix \n",
      " TP FN\n",
      "\n",
      " FP TN \n",
      "Confusion Matrix for Logistic regression \n",
      " [[11774   195]\n",
      " [ 1289   306]]\n",
      "Confusion Matrix for Decision Tree \n",
      " [[11150   829]\n",
      " [  856   729]]\n",
      "Confusion Matrix for SVM \n",
      " [[11954     1]\n",
      " [ 1608     1]]\n",
      "Confusion Matrix for Random forest \n",
      "  [[11908    98]\n",
      " [ 1260   298]]\n"
     ]
    }
   ],
   "source": [
    "print(\"Confusion matrix \\n TP FN\\n\")\n",
    "print (\" FP TN \")       \n",
    "print('Confusion Matrix for Logistic regression \\n', metrics.confusion_matrix(y_test, y_pred))\n",
    "\n",
    "print('Confusion Matrix for Decision Tree \\n',metrics.confusion_matrix(y_test0, y_pred_dt0))\n",
    "\n",
    "print('Confusion Matrix for SVM \\n', metrics.confusion_matrix(y_test1, pred_bayes.predict(x_test1)))\n",
    "\n",
    "print('Confusion Matrix for Random forest \\n ', metrics.confusion_matrix(y_test2, model_pred.predict(x_test2)))\n"
   ]
  },
  {
   "cell_type": "markdown",
   "metadata": {},
   "source": [
    "From the above confusion matrix, Decision tree have the largest number of FN and TN, and high recall score - its clear that decision tree is not best model for our predictive analysis.\n",
    "\n",
    "SVM has low number of FN and TN but its catergoizing all the values into True positive and false positive and not taking clear consideration about the negatives. So its not a ideal model for our problem\n",
    "\n",
    "Logistic Regression and Random forest seems to have lower recall score and lower number of false negatives.\n",
    "From our analysis of confusion matrix its clear that random forest seems to be best suited approach.\n"
   ]
  },
  {
   "cell_type": "markdown",
   "metadata": {},
   "source": [
    "Applying the same models with 80-20% train and test set and features selected using ridgecv."
   ]
  },
  {
   "cell_type": "code",
   "execution_count": 44,
   "metadata": {
    "collapsed": true
   },
   "outputs": [],
   "source": [
    "cols1 =['age','balance','day','duration','previous','job_admin.','job_retired','job_student','job_unemployed','marital_divorced','marital_single','education_tertiary','education_unknown','default_no','housing_no','loan_no','contact_cellular','contact_telephone','month_apr','month_dec','month_feb','month_jun','month_mar','month_oct','month_sep','poutcome_success']\n",
    "X3=data_final[cols1]\n",
    "Y3=data_final['y']"
   ]
  },
  {
   "cell_type": "markdown",
   "metadata": {},
   "source": [
    "Logistic Regression"
   ]
  },
  {
   "cell_type": "code",
   "execution_count": 45,
   "metadata": {},
   "outputs": [],
   "source": [
    "X_train3, X_test3, y_train3, y_test3 = train_test_split(X3, Y3, test_size=0.2, random_state=0)\n",
    "from sklearn.linear_model import LogisticRegression\n",
    "from sklearn import metrics\n",
    "logreg = LogisticRegression()\n",
    "lreg = logreg.fit(X_train3, y_train3)"
   ]
  },
  {
   "cell_type": "code",
   "execution_count": 46,
   "metadata": {},
   "outputs": [
    {
     "name": "stdout",
     "output_type": "stream",
     "text": [
      "Recall score for logistic regression classifier 0.35\n",
      "[[7751  229]\n",
      " [ 691  372]]\n"
     ]
    }
   ],
   "source": [
    "y_pred3 = logreg.predict(X_test3)\n",
    "print('Recall score for logistic regression classifier {:.2f}'.format(recall_score(y_test3, y_pred3)))\n",
    "print(metrics.confusion_matrix(y_test3, y_pred3))"
   ]
  },
  {
   "cell_type": "markdown",
   "metadata": {},
   "source": [
    "Decision Tree"
   ]
  },
  {
   "cell_type": "code",
   "execution_count": 47,
   "metadata": {
    "collapsed": true
   },
   "outputs": [],
   "source": [
    "x_train4, x_test4, y_train4, y_test4 = train_test_split(X3, Y3,test_size =0.2)"
   ]
  },
  {
   "cell_type": "code",
   "execution_count": 48,
   "metadata": {
    "collapsed": true
   },
   "outputs": [],
   "source": [
    "model_dt = DecisionTreeClassifier(max_depth = 810, criterion =\"gini\")\n",
    "model_dt.fit(x_train4, y_train4)\n",
    "y_pred_dt4 = model_dt.predict_proba(x_test4)[:, 1]"
   ]
  },
  {
   "cell_type": "code",
   "execution_count": 49,
   "metadata": {
    "collapsed": true
   },
   "outputs": [],
   "source": [
    "fpr_dt, tpr_dt,_ = roc_curve(y_test4, y_pred_dt4)\n",
    "roc_auc_dt1 = auc(fpr_dt, tpr_dt)"
   ]
  },
  {
   "cell_type": "code",
   "execution_count": 50,
   "metadata": {},
   "outputs": [
    {
     "name": "stdout",
     "output_type": "stream",
     "text": [
      "Recall score for Decision Tree 0.45 \n",
      "Confusion Matrix for Decision Tree \n",
      " [[7370  631]\n",
      " [ 573  469]]\n"
     ]
    }
   ],
   "source": [
    "print('Recall score for Decision Tree {:.2f} '.format(recall_score(y_test4, y_pred_dt4)))\n",
    "print('Confusion Matrix for Decision Tree \\n',metrics.confusion_matrix(y_test4, y_pred_dt4))"
   ]
  },
  {
   "cell_type": "markdown",
   "metadata": {},
   "source": [
    "SVM"
   ]
  },
  {
   "cell_type": "code",
   "execution_count": 51,
   "metadata": {
    "collapsed": true
   },
   "outputs": [],
   "source": [
    "x_train5, x_test5, y_train5, y_test5 = train_test_split(X3, Y3,test_size =0.2)"
   ]
  },
  {
   "cell_type": "code",
   "execution_count": 52,
   "metadata": {},
   "outputs": [],
   "source": [
    "model_bayes = svm.SVC()\n",
    "\n",
    "model_bayes.fit(x_train5, y_train5)\n",
    "pred_bayes = model_bayes.fit(x_train5, y_train5)\n",
    "y_pred_bayes5 = pred_bayes.decision_function(x_test5)\n",
    "fprbayes, tprbayes, _= roc_curve(y_test5, y_pred_bayes5)\n",
    "roc_auc_bayes2 = auc(fprbayes, tprbayes)"
   ]
  },
  {
   "cell_type": "code",
   "execution_count": 53,
   "metadata": {},
   "outputs": [
    {
     "name": "stdout",
     "output_type": "stream",
     "text": [
      "Recall score for SVM 0.00\n",
      "Confusion Matrix for SVM \n",
      " [[7983    0]\n",
      " [1059    1]]\n"
     ]
    }
   ],
   "source": [
    "print('Recall score for SVM {:.2f}'.format(recall_score(y_test5,pred_bayes.predict(x_test5))))\n",
    "print('Confusion Matrix for SVM \\n', metrics.confusion_matrix(y_test5, pred_bayes.predict(x_test5)))"
   ]
  },
  {
   "cell_type": "markdown",
   "metadata": {},
   "source": [
    "Random forest"
   ]
  },
  {
   "cell_type": "code",
   "execution_count": 54,
   "metadata": {
    "collapsed": true
   },
   "outputs": [],
   "source": [
    "x_train6, x_test6, y_train6, y_test6 = train_test_split(X3, Y3,test_size =0.2)"
   ]
  },
  {
   "cell_type": "code",
   "execution_count": 55,
   "metadata": {},
   "outputs": [],
   "source": [
    "model_rf = RandomForestClassifier(max_depth = 10, n_estimators = 150)\n",
    "model_pred = model_rf.fit(x_train6, y_train6)\n",
    "y_pred_rf6 = model_rf.predict_proba(x_test6)[:, 1]\n",
    "\n",
    "fpr_rf, tpr_rf, _ = roc_curve(y_test6, y_pred_rf6)\n",
    "roc_auc_rf3 = auc(fpr_rf, tpr_rf)\n"
   ]
  },
  {
   "cell_type": "code",
   "execution_count": 56,
   "metadata": {},
   "outputs": [
    {
     "name": "stdout",
     "output_type": "stream",
     "text": [
      "Recall score for Random forest 0.24\n",
      "Confusion Matrix for Random forest \n",
      "  [[7901   92]\n",
      " [ 802  248]]\n"
     ]
    }
   ],
   "source": [
    "print('Recall score for Random forest {:.2f}'.format(recall_score(y_test6,model_pred.predict(x_test6))))\n",
    "print('Confusion Matrix for Random forest \\n ', metrics.confusion_matrix(y_test6, model_pred.predict(x_test6)))"
   ]
  },
  {
   "cell_type": "code",
   "execution_count": 57,
   "metadata": {},
   "outputs": [
    {
     "data": {
      "text/plain": [
       "<matplotlib.legend.Legend at 0x1133fd748>"
      ]
     },
     "execution_count": 57,
     "metadata": {},
     "output_type": "execute_result"
    },
    {
     "data": {
      "image/png": "[encoded data removed]",
      "text/plain": [
       "<matplotlib.figure.Figure at 0x1152f9780>"
      ]
     },
     "metadata": {},
     "output_type": "display_data"
    }
   ],
   "source": [
    "plt.plot(fpr_dt, tpr_dt, color='green',\n",
    "         lw=2, label='Decision Tree(AUC = %0.2f)' % roc_auc_dt1)\n",
    "plt.plot(fprbayes, tprbayes, color='blue',\n",
    "         lw=2, label='svm(AUC = %0.5f)' % roc_auc_bayes2)\n",
    "plt.plot(fpr_rf, tpr_rf, color='red',\n",
    "         lw=2, label='Random Forest(AUC = %0.2f)' % roc_auc_rf3)\n",
    "plt.plot([0, 1], [0, 1], color='navy', lw=2, linestyle='--')\n",
    "\n",
    "plt.xlim([0.0, 1.0])\n",
    "plt.ylim([0.0, 1.0])\n",
    "plt.xlabel('False Positive Rate')\n",
    "plt.ylabel('True Positive Rate')\n",
    "plt.title('Receiver Operating Characteristic')\n",
    "plt.legend(loc=\"lower right\")"
   ]
  },
  {
   "cell_type": "code",
   "execution_count": 58,
   "metadata": {},
   "outputs": [
    {
     "name": "stdout",
     "output_type": "stream",
     "text": [
      "Recall score for logistic regression classifier 0.35\n",
      "Recall score for Decision Tree 0.45 \n",
      "Recall score for SVM 0.00\n",
      "Recall score for Random forest 0.24\n"
     ]
    }
   ],
   "source": [
    "print('Recall score for logistic regression classifier {:.2f}'.format(recall_score(y_test3, y_pred3)))\n",
    "print('Recall score for Decision Tree {:.2f} '.format(recall_score(y_test4, y_pred_dt4)))\n",
    "print('Recall score for SVM {:.2f}'.format(recall_score(y_test5,pred_bayes.predict(x_test5))))\n",
    "print('Recall score for Random forest {:.2f}'.format(recall_score(y_test6,model_pred.predict(x_test6))))"
   ]
  },
  {
   "cell_type": "code",
   "execution_count": 59,
   "metadata": {},
   "outputs": [
    {
     "name": "stdout",
     "output_type": "stream",
     "text": [
      "Confusion matrix with 80-20 \n",
      " TP FN\n",
      "\n",
      " FP TN \n",
      "Confusion Matrix for Logistic regression \n",
      " [[7751  229]\n",
      " [ 691  372]]\n",
      "Confusion Matrix for Decision Tree \n",
      " [[7370  631]\n",
      " [ 573  469]]\n",
      "Confusion Matrix for SVM \n",
      " [[7983    0]\n",
      " [1059    1]]\n",
      "Confusion Matrix for Random forest \n",
      "  [[7901   92]\n",
      " [ 802  248]]\n"
     ]
    }
   ],
   "source": [
    "print(\"Confusion matrix with 80-20 \\n TP FN\\n\")\n",
    "print (\" FP TN \")       \n",
    "print('Confusion Matrix for Logistic regression \\n', metrics.confusion_matrix(y_test3, y_pred3))\n",
    "\n",
    "print('Confusion Matrix for Decision Tree \\n',metrics.confusion_matrix(y_test4, y_pred_dt4))\n",
    "\n",
    "print('Confusion Matrix for SVM \\n', metrics.confusion_matrix(y_test5, pred_bayes.predict(x_test5)))\n",
    "\n",
    "print('Confusion Matrix for Random forest \\n ', metrics.confusion_matrix(y_test6, model_pred.predict(x_test6)))"
   ]
  },
  {
   "cell_type": "markdown",
   "metadata": {},
   "source": [
    "Similar to our 70-30 split our 80-20% train and test split follows the same hypothesis.\n",
    "\n",
    "From the above confusion matrix, Decision tree have the largest number of FN and TN, and high recall score - its clear that decision tree is not best model for our predictive analysis.\n",
    "\n",
    "SVM has low number of FN and TN but its catergoizing all the values into True positive and false positive and not taking clear consideration about the negatives. So its not a ideal model for our problem\n",
    "\n",
    "Logistic Regression and Random forest seems to have lower recall score and lower number of false negatives.\n",
    "From our analysis of confusion matrix its clear that random forest seems to be best suited approach.\n"
   ]
  },
  {
   "cell_type": "code",
   "execution_count": null,
   "metadata": {
    "collapsed": true
   },
   "outputs": [],
   "source": []
  }
 ],
 "metadata": {
  "kernelspec": {
   "display_name": "Python 3",
   "language": "python",
   "name": "python3"
  },
  "language_info": {
   "codemirror_mode": {
    "name": "ipython",
    "version": 3
   },
   "file_extension": ".py",
   "mimetype": "text/x-python",
   "name": "python",
   "nbconvert_exporter": "python",
   "pygments_lexer": "ipython3",
   "version": "3.6.1"
  }
 },
 "nbformat": 4,
 "nbformat_minor": 2
}
