{
 "cells": [
  {
   "cell_type": "code",
   "execution_count": 41,
   "metadata": {},
   "outputs": [],
   "source": [
    "%matplotlib inline\n",
    "import matplotlib.pyplot as plt\n",
    "import pandas as pd\n",
    "import csv\n",
    "import numpy as np\n",
    "import collections\n",
    "from sklearn.cross_validation import train_test_split\n",
    "from sklearn.linear_model import RandomizedLasso\n",
    "from sklearn.tree import DecisionTreeClassifier\n",
    "from sklearn.ensemble import RandomForestClassifier\n",
    "from sklearn import svm\n",
    "from sklearn.metrics import roc_curve, auc\n",
    "from sklearn import datasets\n",
    "from sklearn.feature_selection import RFE\n",
    "from sklearn.linear_model import (LogisticRegression, RandomizedLogisticRegression)\n",
    "from sklearn.svm import SVC\n",
    "from sklearn import metrics\n",
    "from sklearn.metrics import precision_score,recall_score\n",
    "from sklearn import model_selection\n",
    "from sklearn.model_selection import cross_val_score\n",
    "from sklearn.metrics import roc_auc_score"
   ]
  },
  {
   "cell_type": "code",
   "execution_count": 42,
   "metadata": {},
   "outputs": [
    {
     "data": {
      "text/html": [
       "<div>\n",
       "<style>\n",
       "    .dataframe thead tr:only-child th {\n",
       "        text-align: right;\n",
       "    }\n",
       "\n",
       "    .dataframe thead th {\n",
       "        text-align: left;\n",
       "    }\n",
       "\n",
       "    .dataframe tbody tr th {\n",
       "        vertical-align: top;\n",
       "    }\n",
       "</style>\n",
       "<table border=\"1\" class=\"dataframe\">\n",
       "  <thead>\n",
       "    <tr style=\"text-align: right;\">\n",
       "      <th></th>\n",
       "      <th>age</th>\n",
       "      <th>job</th>\n",
       "      <th>marital</th>\n",
       "      <th>education</th>\n",
       "      <th>default</th>\n",
       "      <th>balance</th>\n",
       "      <th>housing</th>\n",
       "      <th>loan</th>\n",
       "      <th>contact</th>\n",
       "      <th>day</th>\n",
       "      <th>month</th>\n",
       "      <th>duration</th>\n",
       "      <th>campaign</th>\n",
       "      <th>pdays</th>\n",
       "      <th>previous</th>\n",
       "      <th>poutcome</th>\n",
       "      <th>y</th>\n",
       "    </tr>\n",
       "  </thead>\n",
       "  <tbody>\n",
       "    <tr>\n",
       "      <th>0</th>\n",
       "      <td>58</td>\n",
       "      <td>management</td>\n",
       "      <td>married</td>\n",
       "      <td>tertiary</td>\n",
       "      <td>no</td>\n",
       "      <td>2143</td>\n",
       "      <td>yes</td>\n",
       "      <td>no</td>\n",
       "      <td>unknown</td>\n",
       "      <td>5</td>\n",
       "      <td>may</td>\n",
       "      <td>261</td>\n",
       "      <td>1</td>\n",
       "      <td>-1</td>\n",
       "      <td>0</td>\n",
       "      <td>unknown</td>\n",
       "      <td>no</td>\n",
       "    </tr>\n",
       "    <tr>\n",
       "      <th>1</th>\n",
       "      <td>44</td>\n",
       "      <td>technician</td>\n",
       "      <td>single</td>\n",
       "      <td>secondary</td>\n",
       "      <td>no</td>\n",
       "      <td>29</td>\n",
       "      <td>yes</td>\n",
       "      <td>no</td>\n",
       "      <td>unknown</td>\n",
       "      <td>5</td>\n",
       "      <td>may</td>\n",
       "      <td>151</td>\n",
       "      <td>1</td>\n",
       "      <td>-1</td>\n",
       "      <td>0</td>\n",
       "      <td>unknown</td>\n",
       "      <td>no</td>\n",
       "    </tr>\n",
       "    <tr>\n",
       "      <th>2</th>\n",
       "      <td>33</td>\n",
       "      <td>entrepreneur</td>\n",
       "      <td>married</td>\n",
       "      <td>secondary</td>\n",
       "      <td>no</td>\n",
       "      <td>2</td>\n",
       "      <td>yes</td>\n",
       "      <td>yes</td>\n",
       "      <td>unknown</td>\n",
       "      <td>5</td>\n",
       "      <td>may</td>\n",
       "      <td>76</td>\n",
       "      <td>1</td>\n",
       "      <td>-1</td>\n",
       "      <td>0</td>\n",
       "      <td>unknown</td>\n",
       "      <td>no</td>\n",
       "    </tr>\n",
       "    <tr>\n",
       "      <th>3</th>\n",
       "      <td>47</td>\n",
       "      <td>blue-collar</td>\n",
       "      <td>married</td>\n",
       "      <td>unknown</td>\n",
       "      <td>no</td>\n",
       "      <td>1506</td>\n",
       "      <td>yes</td>\n",
       "      <td>no</td>\n",
       "      <td>unknown</td>\n",
       "      <td>5</td>\n",
       "      <td>may</td>\n",
       "      <td>92</td>\n",
       "      <td>1</td>\n",
       "      <td>-1</td>\n",
       "      <td>0</td>\n",
       "      <td>unknown</td>\n",
       "      <td>no</td>\n",
       "    </tr>\n",
       "    <tr>\n",
       "      <th>4</th>\n",
       "      <td>33</td>\n",
       "      <td>unknown</td>\n",
       "      <td>single</td>\n",
       "      <td>unknown</td>\n",
       "      <td>no</td>\n",
       "      <td>1</td>\n",
       "      <td>no</td>\n",
       "      <td>no</td>\n",
       "      <td>unknown</td>\n",
       "      <td>5</td>\n",
       "      <td>may</td>\n",
       "      <td>198</td>\n",
       "      <td>1</td>\n",
       "      <td>-1</td>\n",
       "      <td>0</td>\n",
       "      <td>unknown</td>\n",
       "      <td>no</td>\n",
       "    </tr>\n",
       "  </tbody>\n",
       "</table>\n",
       "</div>"
      ],
      "text/plain": [
       "   age           job  marital  education default  balance housing loan  \\\n",
       "0   58    management  married   tertiary      no     2143     yes   no   \n",
       "1   44    technician   single  secondary      no       29     yes   no   \n",
       "2   33  entrepreneur  married  secondary      no        2     yes  yes   \n",
       "3   47   blue-collar  married    unknown      no     1506     yes   no   \n",
       "4   33       unknown   single    unknown      no        1      no   no   \n",
       "\n",
       "   contact  day month  duration  campaign  pdays  previous poutcome   y  \n",
       "0  unknown    5   may       261         1     -1         0  unknown  no  \n",
       "1  unknown    5   may       151         1     -1         0  unknown  no  \n",
       "2  unknown    5   may        76         1     -1         0  unknown  no  \n",
       "3  unknown    5   may        92         1     -1         0  unknown  no  \n",
       "4  unknown    5   may       198         1     -1         0  unknown  no  "
      ]
     },
     "execution_count": 42,
     "metadata": {},
     "output_type": "execute_result"
    }
   ],
   "source": [
    "data = pd.read_csv('/Users/Sriram/Documents/Soundz_Interview_Prep/learning/springboard/capstone_project/data/bank-full.csv',delimiter=\";\")\n",
    "data.columns\n",
    "data.head()"
   ]
  },
  {
   "cell_type": "code",
   "execution_count": 43,
   "metadata": {
    "collapsed": true
   },
   "outputs": [],
   "source": [
    "training_features = ['job', 'education', 'default', 'balance', 'housing','loan']\n",
    "target = 'y'"
   ]
  },
  {
   "cell_type": "code",
   "execution_count": 44,
   "metadata": {},
   "outputs": [
    {
     "name": "stdout",
     "output_type": "stream",
     "text": [
      "train_x size ::  (31647, 6)\n",
      "train_y size ::  (31647,)\n",
      "test_x size ::  (13564, 6)\n",
      "test_y size ::  (13564,)\n"
     ]
    }
   ],
   "source": [
    "train_x, test_x, train_y, test_y = train_test_split(data[training_features], data[target], train_size=0.7)\n",
    "    \n",
    "print(\"train_x size :: \", train_x.shape)\n",
    "print(\"train_y size :: \", train_y.shape)\n",
    " \n",
    "print(\"test_x size :: \", test_x.shape)\n",
    "print(\"test_y size :: \", test_y.shape)"
   ]
  },
  {
   "cell_type": "code",
   "execution_count": 45,
   "metadata": {
    "collapsed": true
   },
   "outputs": [],
   "source": [
    "selectedcols=['job','marital','education','default','housing','loan','contact','month','poutcome']\n",
    "for var in selectedcols:\n",
    "    catlist='var'+'_'+var\n",
    "    catlist = pd.get_dummies(data[var], prefix=var)\n",
    "    data1=data.join(catlist)\n",
    "    data=data1\n",
    "selectedcols=['job','marital','education','default','housing','loan','contact','month','poutcome']\n",
    "data_vars=data.columns.values.tolist()\n",
    "to_keep=[i for i in data_vars if i not in selectedcols]"
   ]
  },
  {
   "cell_type": "code",
   "execution_count": 46,
   "metadata": {},
   "outputs": [
    {
     "name": "stderr",
     "output_type": "stream",
     "text": [
      "/Users/Sriram/anaconda/lib/python3.6/site-packages/ipykernel_launcher.py:2: SettingWithCopyWarning: \n",
      "A value is trying to be set on a copy of a slice from a DataFrame.\n",
      "Try using .loc[row_indexer,col_indexer] = value instead\n",
      "\n",
      "See the caveats in the documentation: http://pandas.pydata.org/pandas-docs/stable/indexing.html#indexing-view-versus-copy\n",
      "  \n"
     ]
    },
    {
     "data": {
      "text/plain": [
       "Index(['age', 'balance', 'day', 'duration', 'campaign', 'pdays', 'previous',\n",
       "       'y', 'job_admin.', 'job_blue-collar', 'job_entrepreneur',\n",
       "       'job_housemaid', 'job_management', 'job_retired', 'job_self-employed',\n",
       "       'job_services', 'job_student', 'job_technician', 'job_unemployed',\n",
       "       'job_unknown', 'marital_divorced', 'marital_married', 'marital_single',\n",
       "       'education_primary', 'education_secondary', 'education_tertiary',\n",
       "       'education_unknown', 'default_no', 'default_yes', 'housing_no',\n",
       "       'housing_yes', 'loan_no', 'loan_yes', 'contact_cellular',\n",
       "       'contact_telephone', 'contact_unknown', 'month_apr', 'month_aug',\n",
       "       'month_dec', 'month_feb', 'month_jan', 'month_jul', 'month_jun',\n",
       "       'month_mar', 'month_may', 'month_nov', 'month_oct', 'month_sep',\n",
       "       'poutcome_failure', 'poutcome_other', 'poutcome_success',\n",
       "       'poutcome_unknown'],\n",
       "      dtype='object')"
      ]
     },
     "execution_count": 46,
     "metadata": {},
     "output_type": "execute_result"
    }
   ],
   "source": [
    "data_final=data[to_keep]\n",
    "data_final['y'] = data_final['y'].map({'yes': 1, 'no': 0})\n",
    "data_final.columns\n"
   ]
  },
  {
   "cell_type": "code",
   "execution_count": 47,
   "metadata": {},
   "outputs": [
    {
     "data": {
      "text/plain": [
       "(45211, 52)"
      ]
     },
     "execution_count": 47,
     "metadata": {},
     "output_type": "execute_result"
    }
   ],
   "source": [
    "data_final_vars=list(data_final.columns.values)\n",
    "Y = ['y']\n",
    "X=[i for i in data_final_vars if i not in Y]\n",
    "data_final.shape"
   ]
  },
  {
   "cell_type": "code",
   "execution_count": 48,
   "metadata": {
    "scrolled": true
   },
   "outputs": [
    {
     "name": "stderr",
     "output_type": "stream",
     "text": [
      "/Users/Sriram/anaconda/lib/python3.6/site-packages/sklearn/utils/validation.py:526: DataConversionWarning: A column-vector y was passed when a 1d array was expected. Please change the shape of y to (n_samples, ), for example using ravel().\n",
      "  y = column_or_1d(y, warn=True)\n"
     ]
    },
    {
     "name": "stdout",
     "output_type": "stream",
     "text": [
      "[False False False False False False False False False False False False\n",
      " False False False  True False False False False False False False False\n",
      " False False False False False  True False  True False False  True False\n",
      "  True  True  True  True  True False  True  True  True  True  True  True\n",
      "  True  True  True]\n",
      "[32 34 29 31 16 33 28 26 19 11  6 25  2 22 21  1 24  7 14 17  4 27  5  9 23\n",
      " 10 12  8 20  1 30  1  3 13  1 18  1  1  1  1  1 15  1  1  1  1  1  1  1  1\n",
      "  1]\n"
     ]
    }
   ],
   "source": [
    "logreg = LogisticRegression()\n",
    "rfe = RFE(logreg, 18)\n",
    "rfe = rfe.fit(data_final[X], data_final[Y])\n",
    "print(rfe.support_)\n",
    "print(rfe.ranking_)"
   ]
  },
  {
   "cell_type": "markdown",
   "metadata": {},
   "source": [
    "Using Feature selection we have taken 18 attributes for our logistic regression"
   ]
  },
  {
   "cell_type": "code",
   "execution_count": 49,
   "metadata": {},
   "outputs": [
    {
     "name": "stderr",
     "output_type": "stream",
     "text": [
      "/Users/Sriram/anaconda/lib/python3.6/site-packages/sklearn/utils/validation.py:526: DataConversionWarning: A column-vector y was passed when a 1d array was expected. Please change the shape of y to (n_samples, ), for example using ravel().\n",
      "  y = column_or_1d(y, warn=True)\n"
     ]
    },
    {
     "name": "stdout",
     "output_type": "stream",
     "text": [
      "[(0.0, 'y'), (0.0, 'previous'), (0.0, 'poutcome_success'), (0.0, 'poutcome_other'), (0.0, 'poutcome_failure'), (0.0, 'pdays'), (0.0, 'month_sep'), (0.0, 'month_oct'), (0.0, 'month_nov'), (0.0, 'month_may'), (0.0, 'month_mar'), (0.0, 'month_jun'), (0.0, 'month_jul'), (0.0, 'month_jan'), (0.0, 'month_feb'), (0.0, 'month_dec'), (0.0, 'month_aug'), (0.0, 'month_apr'), (0.0, 'marital_single'), (0.0, 'marital_married'), (0.0, 'marital_divorced'), (0.0, 'loan_yes'), (0.0, 'loan_no'), (0.0, 'job_unknown'), (0.0, 'job_unemployed'), (0.0, 'job_technician'), (0.0, 'job_student'), (0.0, 'job_services'), (0.0, 'job_self-employed'), (0.0, 'job_retired'), (0.0, 'job_management'), (0.0, 'job_housemaid'), (0.0, 'job_entrepreneur'), (0.0, 'job_blue-collar'), (0.0, 'job_admin.'), (0.0, 'housing_yes'), (0.0, 'housing_no'), (0.0, 'education_unknown'), (0.0, 'education_tertiary'), (0.0, 'education_secondary'), (0.0, 'education_primary'), (0.0, 'duration'), (0.0, 'default_yes'), (0.0, 'default_no'), (0.0, 'day'), (0.0, 'contact_unknown'), (0.0, 'contact_telephone'), (0.0, 'contact_cellular'), (0.0, 'campaign'), (0.0, 'balance'), (0.0, 'age')]\n"
     ]
    }
   ],
   "source": [
    "#regularization\n",
    "rlasso = RandomizedLasso(alpha=0.3)\n",
    "rlasso.fit(data_final[X], data_final[Y])\n",
    "names = data_final.columns\n",
    "print(sorted(zip(map(lambda x: x, rlasso.scores_), names), reverse=True))"
   ]
  },
  {
   "cell_type": "code",
   "execution_count": 50,
   "metadata": {
    "collapsed": true
   },
   "outputs": [],
   "source": [
    "cols=['job_student','housing_yes','loan_yes','contact_unknown','month_aug', 'month_dec', 'month_feb','month_jan', 'month_jul','month_mar', 'month_may', 'month_nov', 'month_oct', 'month_sep', 'poutcome_failure', 'poutcome_other', 'poutcome_success','poutcome_unknown'] \n",
    "X1=data_final[cols]\n",
    "Y1=data_final['y']\n"
   ]
  },
  {
   "cell_type": "code",
   "execution_count": 51,
   "metadata": {},
   "outputs": [
    {
     "data": {
      "text/plain": [
       "0    0\n",
       "1    0\n",
       "2    0\n",
       "3    0\n",
       "4    0\n",
       "Name: y, dtype: int64"
      ]
     },
     "execution_count": 51,
     "metadata": {},
     "output_type": "execute_result"
    }
   ],
   "source": [
    "X1.head()\n",
    "Y1.head()"
   ]
  },
  {
   "cell_type": "code",
   "execution_count": 52,
   "metadata": {},
   "outputs": [
    {
     "name": "stdout",
     "output_type": "stream",
     "text": [
      "Optimization terminated successfully.\n",
      "         Current function value: 0.304282\n",
      "         Iterations 7\n",
      "                           Logit Regression Results                           \n",
      "==============================================================================\n",
      "Dep. Variable:                      y   No. Observations:                45211\n",
      "Model:                          Logit   Df Residuals:                    45193\n",
      "Method:                           MLE   Df Model:                           17\n",
      "Date:                Wed, 17 Jan 2018   Pseudo R-squ.:                  0.1568\n",
      "Time:                        23:27:39   Log-Likelihood:                -13757.\n",
      "converged:                       True   LL-Null:                       -16315.\n",
      "                                        LLR p-value:                     0.000\n",
      "====================================================================================\n",
      "                       coef    std err          z      P>|z|      [0.025      0.975]\n",
      "------------------------------------------------------------------------------------\n",
      "job_student          0.4880      0.084      5.789      0.000       0.323       0.653\n",
      "housing_yes         -0.6038      0.037    -16.491      0.000      -0.676      -0.532\n",
      "loan_yes            -0.4315      0.053     -8.210      0.000      -0.535      -0.329\n",
      "contact_unknown     -1.3410      0.055    -24.285      0.000      -1.449      -1.233\n",
      "month_aug           -1.0245      0.059    -17.398      0.000      -1.140      -0.909\n",
      "month_dec            0.5612      0.158      3.557      0.000       0.252       0.870\n",
      "month_feb           -0.4673      0.067     -6.933      0.000      -0.599      -0.335\n",
      "month_jan           -1.0951      0.101    -10.867      0.000      -1.293      -0.898\n",
      "month_jul           -0.8802      0.059    -14.808      0.000      -0.997      -0.764\n",
      "month_mar            1.0887      0.105     10.384      0.000       0.883       1.294\n",
      "month_may           -0.5557      0.051    -10.831      0.000      -0.656      -0.455\n",
      "month_nov           -0.8945      0.067    -13.354      0.000      -1.026      -0.763\n",
      "month_oct            0.6699      0.091      7.386      0.000       0.492       0.848\n",
      "month_sep            0.6653      0.101      6.593      0.000       0.468       0.863\n",
      "poutcome_failure    -1.1291      0.059    -19.018      0.000      -1.245      -1.013\n",
      "poutcome_other      -0.8759      0.076    -11.468      0.000      -1.026      -0.726\n",
      "poutcome_success     1.1733      0.069     17.014      0.000       1.038       1.309\n",
      "poutcome_unknown    -1.0946      0.045    -24.492      0.000      -1.182      -1.007\n",
      "====================================================================================\n"
     ]
    }
   ],
   "source": [
    "import statsmodels.api as sm\n",
    "logit_model=sm.Logit(Y1,X1)\n",
    "result=logit_model.fit()\n",
    "print(result.summary())\n"
   ]
  },
  {
   "cell_type": "markdown",
   "metadata": {},
   "source": [
    "We can infer that the value of p from logistic regression is zero."
   ]
  },
  {
   "cell_type": "code",
   "execution_count": 53,
   "metadata": {},
   "outputs": [
    {
     "data": {
      "text/plain": [
       "Index(['age', 'balance', 'day', 'duration', 'campaign', 'pdays', 'previous',\n",
       "       'y', 'job_admin.', 'job_blue-collar', 'job_entrepreneur',\n",
       "       'job_housemaid', 'job_management', 'job_retired', 'job_self-employed',\n",
       "       'job_services', 'job_student', 'job_technician', 'job_unemployed',\n",
       "       'job_unknown', 'marital_divorced', 'marital_married', 'marital_single',\n",
       "       'education_primary', 'education_secondary', 'education_tertiary',\n",
       "       'education_unknown', 'default_no', 'default_yes', 'housing_no',\n",
       "       'housing_yes', 'loan_no', 'loan_yes', 'contact_cellular',\n",
       "       'contact_telephone', 'contact_unknown', 'month_apr', 'month_aug',\n",
       "       'month_dec', 'month_feb', 'month_jan', 'month_jul', 'month_jun',\n",
       "       'month_mar', 'month_may', 'month_nov', 'month_oct', 'month_sep',\n",
       "       'poutcome_failure', 'poutcome_other', 'poutcome_success',\n",
       "       'poutcome_unknown'],\n",
       "      dtype='object')"
      ]
     },
     "execution_count": 53,
     "metadata": {},
     "output_type": "execute_result"
    }
   ],
   "source": [
    "data_final.columns"
   ]
  },
  {
   "cell_type": "code",
   "execution_count": 54,
   "metadata": {
    "collapsed": true
   },
   "outputs": [],
   "source": [
    "X_train, X_test, y_train, y_test = train_test_split(X1, Y1, test_size=0.3, random_state=0)\n",
    "from sklearn.linear_model import LogisticRegression\n",
    "from sklearn import metrics\n",
    "logreg = LogisticRegression()\n",
    "lreg = logreg.fit(X_train, y_train)"
   ]
  },
  {
   "cell_type": "code",
   "execution_count": 55,
   "metadata": {},
   "outputs": [
    {
     "name": "stdout",
     "output_type": "stream",
     "text": [
      "Accuracy of logistic regression classifier on test set: 0.89\n",
      "Precision score for logistic regression classifier 0.61\n",
      "Recall score for logistic regression classifier 0.19\n"
     ]
    }
   ],
   "source": [
    "y_pred = logreg.predict(X_test)\n",
    "print('Accuracy of logistic regression classifier on test set: {:.2f}'.format(logreg.score(X_test, y_test)))\n",
    "print('Precision score for logistic regression classifier {:.2f}'.format(precision_score(y_test, lreg.predict(X_test))))\n",
    "print('Recall score for logistic regression classifier {:.2f}'.format(recall_score(y_test, lreg.predict(X_test))))"
   ]
  },
  {
   "cell_type": "code",
   "execution_count": 56,
   "metadata": {},
   "outputs": [
    {
     "name": "stdout",
     "output_type": "stream",
     "text": [
      "[[11774   195]\n",
      " [ 1289   306]]\n"
     ]
    }
   ],
   "source": [
    "print(metrics.confusion_matrix(y_test, y_pred))"
   ]
  },
  {
   "cell_type": "markdown",
   "metadata": {},
   "source": [
    "From logisticregression we can see that predictive model for this data set is 0.89 percent accurate."
   ]
  },
  {
   "cell_type": "code",
   "execution_count": 57,
   "metadata": {},
   "outputs": [
    {
     "name": "stdout",
     "output_type": "stream",
     "text": [
      "k-fold cross validation average accuracy: 0.89\n"
     ]
    }
   ],
   "source": [
    "\n",
    "kfold = model_selection.KFold(n_splits=3, random_state=7)\n",
    "modelCV = LogisticRegression()\n",
    "scoring = 'accuracy'\n",
    "results = model_selection.cross_val_score(modelCV, X_train, y_train, cv=kfold, scoring=scoring)\n",
    "print(\"k-fold cross validation average accuracy: %.2f\" % (results.mean()))"
   ]
  },
  {
   "cell_type": "code",
   "execution_count": 58,
   "metadata": {},
   "outputs": [
    {
     "data": {
      "image/png": "[encoded data removed]",
      "text/plain": [
       "<matplotlib.figure.Figure at 0x1145ac780>"
      ]
     },
     "metadata": {},
     "output_type": "display_data"
    }
   ],
   "source": [
    "\n",
    "logit_roc_auc = roc_auc_score(y_test, logreg.predict(X_test))\n",
    "fpr, tpr, thresholds = roc_curve(y_test, logreg.predict_proba(X_test)[:,1])\n",
    "plt.figure()\n",
    "plt.plot(fpr, tpr, label='Logistic Regression (area = %0.2f)' % logit_roc_auc)\n",
    "plt.plot([0, 1], [0, 1],'r--')\n",
    "plt.xlim([0.0, 1.0])\n",
    "plt.ylim([0.0, 1.05])\n",
    "plt.xlabel('False Positive Rate')\n",
    "plt.ylabel('True Positive Rate')\n",
    "plt.title('Receiver operating characteristic')\n",
    "plt.legend(loc=\"lower right\")\n",
    "plt.savefig('Log_ROC')\n",
    "plt.show()"
   ]
  },
  {
   "cell_type": "code",
   "execution_count": 59,
   "metadata": {
    "collapsed": true
   },
   "outputs": [],
   "source": [
    "X2 = data_final[X]\n",
    "Y2 = data_final[Y]\n"
   ]
  },
  {
   "cell_type": "code",
   "execution_count": 60,
   "metadata": {
    "collapsed": true
   },
   "outputs": [],
   "source": [
    "x_train0, x_test0, y_train0, y_test0 = train_test_split(X2, Y2,test_size =0.3)"
   ]
  },
  {
   "cell_type": "code",
   "execution_count": 61,
   "metadata": {
    "collapsed": true
   },
   "outputs": [],
   "source": [
    "model_dt1 = DecisionTreeClassifier(max_depth = 810, criterion =\"entropy\")\n",
    "model_dt1.fit(x_train0, y_train0)\n",
    "y_pred_dt0 = model_dt1.predict_proba(x_test0)[:, 1]"
   ]
  },
  {
   "cell_type": "code",
   "execution_count": 62,
   "metadata": {
    "collapsed": true
   },
   "outputs": [],
   "source": [
    "model_dt = DecisionTreeClassifier(max_depth = 810, criterion =\"gini\")\n",
    "model_dt.fit(x_train0, y_train0)\n",
    "y_pred_dt0 = model_dt.predict_proba(x_test0)[:, 1]\n"
   ]
  },
  {
   "cell_type": "code",
   "execution_count": 63,
   "metadata": {},
   "outputs": [
    {
     "data": {
      "text/plain": [
       "array([  8.02469861e-02,   1.03165856e-01,   8.05414571e-02,\n",
       "         2.83440326e-01,   2.89635847e-02,   4.05183081e-02,\n",
       "         1.07361424e-02,   6.87570582e-03,   5.70396143e-03,\n",
       "         2.22467893e-03,   1.68740483e-03,   7.95038235e-03,\n",
       "         3.04509169e-03,   2.03112493e-03,   5.85525916e-03,\n",
       "         1.13719688e-03,   9.55525601e-03,   3.12258618e-03,\n",
       "         1.93376334e-04,   4.63784793e-03,   8.25746186e-03,\n",
       "         6.19515906e-03,   5.24338644e-03,   8.69072638e-03,\n",
       "         7.64035157e-03,   2.85499467e-03,   1.31457368e-03,\n",
       "         6.90102860e-04,   2.08036132e-02,   3.73548440e-03,\n",
       "         3.19123494e-03,   5.49565042e-03,   2.85046686e-03,\n",
       "         2.46556637e-03,   3.47403233e-02,   8.61596723e-03,\n",
       "         1.31316238e-02,   1.50663902e-03,   1.15564249e-02,\n",
       "         6.13561719e-03,   1.32461541e-02,   8.72206171e-03,\n",
       "         8.94298265e-03,   1.01603663e-02,   1.09180870e-02,\n",
       "         1.10150955e-02,   7.39423085e-03,   2.63250826e-03,\n",
       "         2.61060099e-03,   8.70953231e-02,   5.14688350e-04])"
      ]
     },
     "execution_count": 63,
     "metadata": {},
     "output_type": "execute_result"
    }
   ],
   "source": [
    "model_dt1.feature_importances_"
   ]
  },
  {
   "cell_type": "code",
   "execution_count": 64,
   "metadata": {},
   "outputs": [
    {
     "data": {
      "text/plain": [
       "Index(['age', 'balance', 'day', 'duration', 'campaign', 'pdays', 'previous',\n",
       "       'job_admin.', 'job_blue-collar', 'job_entrepreneur', 'job_housemaid',\n",
       "       'job_management', 'job_retired', 'job_self-employed', 'job_services',\n",
       "       'job_student', 'job_technician', 'job_unemployed', 'job_unknown',\n",
       "       'marital_divorced', 'marital_married', 'marital_single',\n",
       "       'education_primary', 'education_secondary', 'education_tertiary',\n",
       "       'education_unknown', 'default_no', 'default_yes', 'housing_no',\n",
       "       'housing_yes', 'loan_no', 'loan_yes', 'contact_cellular',\n",
       "       'contact_telephone', 'contact_unknown', 'month_apr', 'month_aug',\n",
       "       'month_dec', 'month_feb', 'month_jan', 'month_jul', 'month_jun',\n",
       "       'month_mar', 'month_may', 'month_nov', 'month_oct', 'month_sep',\n",
       "       'poutcome_failure', 'poutcome_other', 'poutcome_success',\n",
       "       'poutcome_unknown'],\n",
       "      dtype='object')"
      ]
     },
     "execution_count": 64,
     "metadata": {},
     "output_type": "execute_result"
    }
   ],
   "source": [
    "x_train0.columns"
   ]
  },
  {
   "cell_type": "code",
   "execution_count": 65,
   "metadata": {},
   "outputs": [
    {
     "data": {
      "text/plain": [
       "array([ 0.09299707,  0.10748798,  0.08357033,  0.26381555,  0.03143421,\n",
       "        0.0463395 ,  0.01083989,  0.01123083,  0.00782551,  0.00292926,\n",
       "        0.00308311,  0.00752801,  0.00234395,  0.00505115,  0.00591632,\n",
       "        0.00431172,  0.00836916,  0.00190636,  0.00050375,  0.00568335,\n",
       "        0.01013275,  0.00781103,  0.00493772,  0.00898536,  0.00630058,\n",
       "        0.00489506,  0.00090728,  0.00118231,  0.00519174,  0.01192944,\n",
       "        0.00345999,  0.00291308,  0.00359976,  0.00263522,  0.0097438 ,\n",
       "        0.01762533,  0.0068438 ,  0.00344593,  0.01157716,  0.00495097,\n",
       "        0.00752988,  0.01470748,  0.01346298,  0.00662562,  0.0056926 ,\n",
       "        0.01149796,  0.0075989 ,  0.00347287,  0.00368206,  0.0926718 ,\n",
       "        0.00082253])"
      ]
     },
     "execution_count": 65,
     "metadata": {},
     "output_type": "execute_result"
    }
   ],
   "source": [
    "model_dt.feature_importances_"
   ]
  },
  {
   "cell_type": "code",
   "execution_count": 66,
   "metadata": {
    "collapsed": true
   },
   "outputs": [],
   "source": [
    "fpr_dt, tpr_dt,_ = roc_curve(y_test0, y_pred_dt0)\n",
    "roc_auc_dt = auc(fpr_dt, tpr_dt)"
   ]
  },
  {
   "cell_type": "code",
   "execution_count": 67,
   "metadata": {},
   "outputs": [
    {
     "name": "stdout",
     "output_type": "stream",
     "text": [
      "Precision score for Decision Tree0.48 \n",
      "Recall score for Decision Tree 0.49 \n",
      "Confusion Matrix for Decision Tree \n",
      " [[11132   838]\n",
      " [  805   789]]\n"
     ]
    }
   ],
   "source": [
    "print('Precision score for Decision Tree{:.2f} '.format(precision_score(y_test0,y_pred_dt0)))\n",
    "print('Recall score for Decision Tree {:.2f} '.format(recall_score(y_test0, y_pred_dt0)))\n",
    "print('Confusion Matrix for Decision Tree \\n',metrics.confusion_matrix(y_test0, y_pred_dt0))"
   ]
  },
  {
   "cell_type": "code",
   "execution_count": 68,
   "metadata": {},
   "outputs": [
    {
     "data": {
      "text/plain": [
       "[<matplotlib.lines.Line2D at 0x11e199908>]"
      ]
     },
     "execution_count": 68,
     "metadata": {},
     "output_type": "execute_result"
    },
    {
     "data": {
      "image/png": "[encoded data removed]",
      "text/plain": [
       "<matplotlib.figure.Figure at 0x11df15fd0>"
      ]
     },
     "metadata": {},
     "output_type": "display_data"
    }
   ],
   "source": [
    "plt.plot(fpr_dt, tpr_dt, color='green',\n",
    "         lw=2, label='Decision Tree(AUC = %0.2f)' % roc_auc_dt)"
   ]
  },
  {
   "cell_type": "code",
   "execution_count": 69,
   "metadata": {
    "collapsed": true
   },
   "outputs": [],
   "source": [
    "x_train1, x_test1, y_train1, y_test1 = train_test_split(X2, Y2,test_size =0.3)"
   ]
  },
  {
   "cell_type": "code",
   "execution_count": 70,
   "metadata": {},
   "outputs": [
    {
     "name": "stderr",
     "output_type": "stream",
     "text": [
      "/Users/Sriram/anaconda/lib/python3.6/site-packages/sklearn/utils/validation.py:526: DataConversionWarning: A column-vector y was passed when a 1d array was expected. Please change the shape of y to (n_samples, ), for example using ravel().\n",
      "  y = column_or_1d(y, warn=True)\n"
     ]
    }
   ],
   "source": [
    "model_bayes = svm.SVC()\n",
    "\n",
    "model_bayes.fit(x_train1, y_train1)\n",
    "pred_bayes = model_bayes.fit(x_train1, y_train1)\n",
    "y_pred_bayes = pred_bayes.decision_function(x_test1)\n",
    "fprbayes, tprbayes, _= roc_curve(y_test1, y_pred_bayes)\n",
    "roc_auc_bayes = auc(fprbayes, tprbayes)"
   ]
  },
  {
   "cell_type": "code",
   "execution_count": 71,
   "metadata": {},
   "outputs": [
    {
     "name": "stderr",
     "output_type": "stream",
     "text": [
      "/Users/Sriram/anaconda/lib/python3.6/site-packages/sklearn/metrics/classification.py:1113: UndefinedMetricWarning: Precision is ill-defined and being set to 0.0 due to no predicted samples.\n",
      "  'precision', 'predicted', average, warn_for)\n"
     ]
    },
    {
     "name": "stdout",
     "output_type": "stream",
     "text": [
      "Precision score for SVM0.00 \n",
      "Confusion Matrix for SVM \n",
      " [[11988     0]\n",
      " [ 1576     0]]\n"
     ]
    }
   ],
   "source": [
    "print('Precision score for SVM{:.2f} '.format(precision_score(y_test1,pred_bayes.predict(x_test1) )))\n",
    "print('Confusion Matrix for SVM \\n', metrics.confusion_matrix(y_test1, pred_bayes.predict(x_test1)))"
   ]
  },
  {
   "cell_type": "code",
   "execution_count": 72,
   "metadata": {},
   "outputs": [
    {
     "data": {
      "text/plain": [
       "[<matplotlib.lines.Line2D at 0x119636358>]"
      ]
     },
     "execution_count": 72,
     "metadata": {},
     "output_type": "execute_result"
    },
    {
     "data": {
      "image/png": "[encoded data removed]",
      "text/plain": [
       "<matplotlib.figure.Figure at 0x11714f198>"
      ]
     },
     "metadata": {},
     "output_type": "display_data"
    }
   ],
   "source": [
    "plt.plot(fprbayes, tprbayes, color='blue',lw=2, label='svm(AUC = %0.5f)' % roc_auc_bayes)"
   ]
  },
  {
   "cell_type": "code",
   "execution_count": 73,
   "metadata": {
    "collapsed": true
   },
   "outputs": [],
   "source": [
    "x_train2, x_test2, y_train2, y_test2 = train_test_split(X2, Y2,test_size =0.3)"
   ]
  },
  {
   "cell_type": "code",
   "execution_count": 74,
   "metadata": {},
   "outputs": [
    {
     "name": "stderr",
     "output_type": "stream",
     "text": [
      "/Users/Sriram/anaconda/lib/python3.6/site-packages/ipykernel_launcher.py:2: DataConversionWarning: A column-vector y was passed when a 1d array was expected. Please change the shape of y to (n_samples,), for example using ravel().\n",
      "  \n"
     ]
    }
   ],
   "source": [
    "model_rf = RandomForestClassifier(max_depth = 10, n_estimators = 150)\n",
    "model_pred = model_rf.fit(x_train2, y_train2)\n",
    "y_pred_rf = model_rf.predict_proba(x_test2)[:, 1]\n",
    "\n",
    "fpr_rf, tpr_rf, _ = roc_curve(y_test2, y_pred_rf)\n",
    "roc_auc_rf = auc(fpr_rf, tpr_rf)\n"
   ]
  },
  {
   "cell_type": "code",
   "execution_count": 75,
   "metadata": {},
   "outputs": [
    {
     "name": "stdout",
     "output_type": "stream",
     "text": [
      "Precision score for Random forest0.75 \n",
      "Confusion Matrix for Random forest \n",
      "  [[11821   125]\n",
      " [ 1236   382]]\n"
     ]
    }
   ],
   "source": [
    "print('Precision score for Random forest{:.2f} '.format(precision_score(y_test2,model_pred.predict(x_test2))))\n",
    "print('Confusion Matrix for Random forest \\n ', metrics.confusion_matrix(y_test2, model_pred.predict(x_test2)))"
   ]
  },
  {
   "cell_type": "code",
   "execution_count": 76,
   "metadata": {},
   "outputs": [
    {
     "data": {
      "text/plain": [
       "[<matplotlib.lines.Line2D at 0x11e1a9358>]"
      ]
     },
     "execution_count": 76,
     "metadata": {},
     "output_type": "execute_result"
    },
    {
     "data": {
      "image/png": "[encoded data removed]",
      "text/plain": [
       "<matplotlib.figure.Figure at 0x11e1a94a8>"
      ]
     },
     "metadata": {},
     "output_type": "display_data"
    }
   ],
   "source": [
    "plt.plot(fpr_rf, tpr_rf, color='red',lw=2, label='Random Forest(AUC = %0.2f)' % roc_auc_rf)"
   ]
  },
  {
   "cell_type": "code",
   "execution_count": 77,
   "metadata": {},
   "outputs": [
    {
     "data": {
      "text/plain": [
       "<matplotlib.legend.Legend at 0x118792828>"
      ]
     },
     "execution_count": 77,
     "metadata": {},
     "output_type": "execute_result"
    },
    {
     "data": {
      "image/png": "[encoded data removed]",
      "text/plain": [
       "<matplotlib.figure.Figure at 0x1151e50f0>"
      ]
     },
     "metadata": {},
     "output_type": "display_data"
    }
   ],
   "source": [
    "plt.plot(fpr_dt, tpr_dt, color='green',\n",
    "         lw=2, label='Decision Tree(AUC = %0.2f)' % roc_auc_dt)\n",
    "plt.plot(fprbayes, tprbayes, color='blue',\n",
    "         lw=2, label='svm(AUC = %0.5f)' % roc_auc_bayes)\n",
    "plt.plot(fpr_rf, tpr_rf, color='red',\n",
    "         lw=2, label='Random Forest(AUC = %0.2f)' % roc_auc_rf)\n",
    "plt.plot([0, 1], [0, 1], color='navy', lw=2, linestyle='--')\n",
    "\n",
    "plt.xlim([0.0, 1.0])\n",
    "plt.ylim([0.0, 1.0])\n",
    "plt.xlabel('False Positive Rate')\n",
    "plt.ylabel('True Positive Rate')\n",
    "plt.title('Receiver Operating Characteristic')\n",
    "plt.legend(loc=\"lower right\")"
   ]
  },
  {
   "cell_type": "markdown",
   "metadata": {},
   "source": [
    "* Logistic - Accuracy of logistic regression classifier on test set: 0.89\n",
    "* Precision score for logistic regression classifier 0.60\n",
    "* Decision - Precision score for Decision Tree 0.48 \n",
    "* SVM - Precision score for SVM 0.33\n",
    "* Random Forest - Precision score for Random forest 0.79\n",
    "\n",
    "From the precision score its clear that Random forest has the highest score compared to other classification techniques. And Accuracy of logistic regression is higher and closer to 1\n"
   ]
  },
  {
   "cell_type": "code",
   "execution_count": 78,
   "metadata": {},
   "outputs": [
    {
     "name": "stdout",
     "output_type": "stream",
     "text": [
      "Confusion matrix \n",
      " TP FN\n",
      "\n",
      " FP TN \n",
      "Confusion Matrix for Logistic regression \n",
      " [[11774   195]\n",
      " [ 1289   306]]\n",
      "Confusion Matrix for Decision Tree \n",
      " [[11132   838]\n",
      " [  805   789]]\n",
      "Confusion Matrix for SVM \n",
      " [[11988     0]\n",
      " [ 1576     0]]\n",
      "Confusion Matrix for Random forest \n",
      "  [[11821   125]\n",
      " [ 1236   382]]\n"
     ]
    }
   ],
   "source": [
    "\n",
    "print(\"Confusion matrix \\n TP FN\\n\")\n",
    "print (\" FP TN \")       \n",
    "print('Confusion Matrix for Logistic regression \\n', metrics.confusion_matrix(y_test, y_pred))\n",
    "\n",
    "print('Confusion Matrix for Decision Tree \\n',metrics.confusion_matrix(y_test0, y_pred_dt0))\n",
    "\n",
    "print('Confusion Matrix for SVM \\n', metrics.confusion_matrix(y_test1, pred_bayes.predict(x_test1)))\n",
    "\n",
    "print('Confusion Matrix for Random forest \\n ', metrics.confusion_matrix(y_test2, model_pred.predict(x_test2)))\n"
   ]
  },
  {
   "cell_type": "code",
   "execution_count": null,
   "metadata": {
    "collapsed": true
   },
   "outputs": [],
   "source": []
  }
 ],
 "metadata": {
  "kernelspec": {
   "display_name": "Python 3",
   "language": "python",
   "name": "python3"
  }
 },
 "nbformat": 4,
 "nbformat_minor": 2
}
