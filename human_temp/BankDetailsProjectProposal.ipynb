{
 "cells": [
  {
   "cell_type": "markdown",
   "metadata": {},
   "source": [
    "# Capstone Project Proposal:\n",
    "\n",
    "##Bank Marketing Data Set:\n",
    "The data is related with direct marketing campaigns of a Portuguese banking institution. The marketing campaigns were based on phone calls. Often, more than one contact to the same client was required, in order to access if the product (bank term deposit) would be ('yes') or not ('no') subscribed.\n",
    "With the provided dataset I am trying to analysis and predict if the client after marketing campaign will subscribe to term deposit or not.\n",
    "\n",
    "Portuguese banking institution is the client, it will help them to analysis with the results \n",
    "\n",
    "    whether their marketing campaign is success, \n",
    "    what other methods or changes they can do to improve the campaign\n",
    "    Whats the effectiveness and things they can continue from their last campaign\n",
    "    Whether they are targeting the right set of audience.\n",
    "\n",
    "My analysis will help them to make a decision as to how to improve their campaigns so that they can achieve more clients subscribing to their term deposit.\n",
    "\n",
    "Data Analysis and Visualization:\n",
    "The dataset consists of 17 attributes and 45211 instances.\n",
    "First step is to extract data, clean them up and deal with missing, invalid or corrupted values\n",
    "After the data is cleaned, I will apply data visualization to understand the data given and try to get deeper understanding of what the data represents\n",
    "What can be obtained form this data, how can this data be used to process the information.\n",
    "\n",
    "The attributes are 'age', 'job', 'marital', 'education', 'default', 'balance', 'housing','loan', 'contact', 'day', 'month', 'duration', 'campaign', 'pdays','previous', 'poutcome', 'y'\n",
    "\n",
    "Will apply Data wrangling techniques to get a meaningful data from this dataset which will answer few of the below questions\n",
    "\n",
    "1) whether age plays a role in clients subscribing to term deposit \n",
    "2) whether their jobs or marital status have impact on term deposit if so how much of impact\n",
    "3) If they already have loans, how about their education and job that impacts\n",
    "4) previous marketing campaign results with their modes of contact vs current outcome\n",
    "5) is there any pattern that we can determine from their current outcome.\n",
    "\n",
    "After the data wrangling is done and visualization to obtain the analysis of the data set. we can apply machine learning algorithms to classify and predict the future outcome of the campaigns\n",
    "\n",
    "##Deliverables:\n",
    "Jupyter notebook with analysis results\n",
    "Slide deck."
   ]
  }
 ],
 "metadata": {
  "kernelspec": {
   "display_name": "Python 3",
   "language": "python",
   "name": "python3"
  },
  "language_info": {
   "codemirror_mode": {
    "name": "ipython",
    "version": 3
   },
   "file_extension": ".py",
   "mimetype": "text/x-python",
   "name": "python",
   "nbconvert_exporter": "python",
   "pygments_lexer": "ipython3",
   "version": "3.6.1"
  }
 },
 "nbformat": 4,
 "nbformat_minor": 2
}
