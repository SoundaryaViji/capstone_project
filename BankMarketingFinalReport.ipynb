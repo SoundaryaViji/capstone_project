{
 "cells": [
  {
   "cell_type": "markdown",
   "metadata": {},
   "source": [
    "# Bank Marketing:\n",
    "## Introduction:\n",
    "The data is related with direct marketing campaigns of a Portuguese banking institution.\n",
    "\n",
    "The marketing campaigns were based on phone calls Often, more than one contact to the same client was required, in order to access if the product (bank term deposit) would be ('yes') or not ('no') subscribed.\n",
    "\n",
    "With the provided dataset we are trying to analysis and predict if the clients after marketing campaign will subscribe to term deposit or not.\n",
    "\n",
    "Portuguese banking institution is the client, it will help them to analyze\n",
    "\n",
    "1. whether their marketing campaign is success,\n",
    "2. what other methods or changes they can do to improve in the campaign\n",
    "3. What's the effectiveness of the campaign and points to continue from their last campaign\n",
    "4. Whether they are targeting the right set of audience.\n",
    "\n",
    "My analysis will help them to make a decision as to how to improve their campaigns so that they can achieve more clients subscribing to their term deposit.\n",
    "\n",
    "## Information on dataset:\n",
    "Bank Marketing Data Set: https://archive.ics.uci.edu/ml/datasets/bank+marketing\n",
    "\n",
    "We are using below datasets for our analysis\n",
    "\n",
    "bank-full.csv with all examples and 17 inputs, ordered by date (older version of this dataset with less inputs).\n",
    "bank.csv with 10% of the examples and 17 inputs, randomly selected from 3 (older version of this dataset with less inputs).\n",
    "\n",
    "And below are the key attributes\n",
    "\n",
    "* Job\n",
    "* Education\n",
    "* Default which gives if the have any default credit or not\n",
    "* housing\n",
    "* loan\n",
    "* previous outcome of campaign\n",
    "* whether client has subscribed to term deposit or not.\n",
    "\n",
    "## Limitations on dataset:\n",
    "The given dataset has limited amount of data present regarding previous campaign outcome, so its difficult to determine if the previous campaign is successful or not with small sample of data.\n",
    "\n",
    "## Data cleaning and Wrangling:\n",
    "Data cleaning was done on the dataset - to replace all null and missing fields with unknown. \n",
    "The data was present in csv format, using panda's read_csv function we were able to get the dataframe\n",
    "\n",
    "We used the two datasets with information for our analysis.\n",
    "\n",
    "## Observations based on preliminary exploration:\n",
    "Here is the link to data analysis - https://github.com/SoundaryaViji/capstone_project/blob/master/BankDetails.ipynb with a single set of data\n"
   ]
  },
  {
   "cell_type": "code",
   "execution_count": 1,
   "metadata": {},
   "outputs": [
    {
     "data": {
      "text/plain": [
       "<matplotlib.axes._subplots.AxesSubplot at 0x1109af550>"
      ]
     },
     "execution_count": 1,
     "metadata": {},
     "output_type": "execute_result"
    },
    {
     "data": {
      "image/png": "[encoded data removed]",
      "text/plain": [
       "<matplotlib.figure.Figure at 0x110983e48>"
      ]
     },
     "metadata": {},
     "output_type": "display_data"
    }
   ],
   "source": [
    "%matplotlib inline\n",
    "import matplotlib.pyplot as plt\n",
    "import pandas as pd\n",
    "import csv\n",
    "import numpy as np\n",
    "import collections\n",
    "\n",
    "df = pd.read_csv('/Users/Sriram/Documents/Soundz_Interview_Prep/learning/springboard/capstoneproject/bank/bank-full.csv',delimiter=\";\")\n",
    "\n",
    "df.loc[df[\"poutcome\"] == 'success','previous'].groupby(df['previous']).size().plot(kind = 'barh')\n",
    "\n"
   ]
  },
  {
   "cell_type": "markdown",
   "metadata": {},
   "source": [
    "Distribution of clients who have subscribed to term deposit displayed based on the age.\n",
    "From the below graph we can see clients between the age of 28 to 36 who are the majors ones who have subscribed to term deposit"
   ]
  },
  {
   "cell_type": "code",
   "execution_count": 2,
   "metadata": {},
   "outputs": [
    {
     "data": {
      "text/plain": [
       "<matplotlib.axes._subplots.AxesSubplot at 0x110a9d550>"
      ]
     },
     "execution_count": 2,
     "metadata": {},
     "output_type": "execute_result"
    },
    {
     "data": {
      "image/png": "[encoded data removed]",
      "text/plain": [
       "<matplotlib.figure.Figure at 0x1108ddbe0>"
      ]
     },
     "metadata": {},
     "output_type": "display_data"
    }
   ],
   "source": [
    "df['res'] = df.loc[df['y'] == 'yes', 'age']\n",
    "df['res'].hist(bins = 100)"
   ]
  },
  {
   "cell_type": "markdown",
   "metadata": {},
   "source": [
    "Graph which shows clients who have subscribed to term deposit and their job categories\n",
    "From the below information the clients in management jobs seem to be subscribing to term deposit then other categories\n",
    "Top three jobs for which term deposit are larger are Management, Technician,blue-collar jobs"
   ]
  },
  {
   "cell_type": "code",
   "execution_count": 3,
   "metadata": {},
   "outputs": [
    {
     "data": {
      "text/plain": [
       "<matplotlib.axes._subplots.AxesSubplot at 0x119f67cf8>"
      ]
     },
     "execution_count": 3,
     "metadata": {},
     "output_type": "execute_result"
    },
    {
     "data": {
      "image/png": "[encoded data removed]",
      "text/plain": [
       "<matplotlib.figure.Figure at 0x119601f60>"
      ]
     },
     "metadata": {},
     "output_type": "display_data"
    }
   ],
   "source": [
    "\n",
    "df.loc[df['y'] == 'yes','job'].groupby(df['job']).size().plot(kind = 'barh')\n"
   ]
  },
  {
   "cell_type": "code",
   "execution_count": 4,
   "metadata": {
    "collapsed": true
   },
   "outputs": [],
   "source": [
    "df12 = df.loc[df['y'] == 'yes'].groupby([\"month\"]).size().reset_index()\n",
    "df12.columns = [\"month\",\"size\"]"
   ]
  },
  {
   "cell_type": "code",
   "execution_count": 5,
   "metadata": {},
   "outputs": [
    {
     "data": {
      "text/plain": [
       "<matplotlib.axes._subplots.AxesSubplot at 0x1199515f8>"
      ]
     },
     "execution_count": 5,
     "metadata": {},
     "output_type": "execute_result"
    },
    {
     "data": {
      "image/png": "[encoded data removed]",
      "text/plain": [
       "<matplotlib.figure.Figure at 0x1195b3b38>"
      ]
     },
     "metadata": {},
     "output_type": "display_data"
    }
   ],
   "source": [
    "df12.plot(kind='barh',x = 'month',y = 'size')"
   ]
  },
  {
   "cell_type": "markdown",
   "metadata": {},
   "source": [
    "Month of may has largest number of customers who have subscribed for term despoist, even though the fiscal year in portugal is from jan to dec the term deposit seems to be more on month of May."
   ]
  },
  {
   "cell_type": "markdown",
   "metadata": {},
   "source": [
    "## Inference from data analysis\n",
    "\n",
    "1. From the given data we can observe that the clients who have management jobs with secondary degree and who doesnt have any loans and in between age of 27 to 37 are the ones who have subscribed to term deposit the most.\n",
    "\n",
    "2. Protugal has fiscal year from January to December and we expected the term deposit to be more during these months but it turned out that during month of May there are more number of clients subscribing to term deposit. It may be due to performance apparisal cycle or bonus pay cycle but we dont have substantial information to confirm this theory.\n",
    "\n",
    "3. We have around 18 percent of clients who have subscribed to term deposit after pervious campaign and current campaign.\n",
    "\n",
    "4. From the campaign results  its clear that unemployed clients are not susbcribing to term deposit.Students contribute to very low percentage of clients who subscribed to term deposit.\n",
    "\n",
    "5. From our initail analysis clients who are married and who have management/blue collar and those who are finanically stable are the clients who subscribe for term deposit.\n",
    "\n",
    "6. With the given data we can find that for a successful campaign the category of clients we need to contact and  for category of clients are not subscribing.\n",
    "\n",
    "7. This gives us the areas which we need to improve for making more clients to subscribe to term deposit."
   ]
  },
  {
   "cell_type": "markdown",
   "metadata": {},
   "source": [
    "## Approach:\n",
    "The inital exploration has been useful to understand trends in the data. The the main goal of the project to create a predictive model which can predict if the clients will subscribed to term deposit.\n",
    "\n",
    "We will use supervised training with classification to predict the clients subscription"
   ]
  },
  {
   "cell_type": "markdown",
   "metadata": {},
   "source": [
    "After analizing the data we decided to use predict analysis to predict if clients will subscribed to given term deposit"
   ]
  },
  {
   "cell_type": "markdown",
   "metadata": {},
   "source": [
    "I am using the below model for test and train set to predicted the values for clients subscription\n",
    "1. Logistic regression\n",
    "2. Decision Tree\n",
    "3. SVM\n",
    "4. Random Forest\n",
    "\n",
    "We going to take two set of data's. \n",
    "1. 70-30 train and test split for which attributes are selected using feature selection\n",
    "2. 80-20 split with attributes selected from ridgecv."
   ]
  },
  {
   "cell_type": "code",
   "execution_count": 24,
   "metadata": {},
   "outputs": [
    {
     "data": {
      "text/html": [
       "<script>\n",
       "code_show=true; \n",
       "function code_toggle() {\n",
       "    if (code_show){\n",
       "        $('div.cell.code_cell.rendered.selected div.input').hide();\n",
       "    } else {\n",
       "        $('div.cell.code_cell.rendered.selected div.input').show();\n",
       "    }\n",
       "    code_show = !code_show\n",
       "} \n",
       "$( document ).ready(code_toggle);\n",
       "</script>\n",
       "To show/hide this cell's raw code input, click <a href=\"javascript:code_toggle()\">here</a>."
      ],
      "text/plain": [
       "<IPython.core.display.HTML object>"
      ]
     },
     "metadata": {},
     "output_type": "display_data"
    }
   ],
   "source": [
    "from IPython.display import HTML\n",
    "from IPython.display import display\n",
    "tag = HTML('''<script>\n",
    "code_show=true; \n",
    "function code_toggle() {\n",
    "    if (code_show){\n",
    "        $('div.cell.code_cell.rendered.selected div.input').hide();\n",
    "    } else {\n",
    "        $('div.cell.code_cell.rendered.selected div.input').show();\n",
    "    }\n",
    "    code_show = !code_show\n",
    "} \n",
    "$( document ).ready(code_toggle);\n",
    "</script>\n",
    "To show/hide this cell's raw code input, click <a href=\"javascript:code_toggle()\">here</a>.''')\n",
    "display(tag)\n"
   ]
  },
  {
   "cell_type": "code",
   "execution_count": 7,
   "metadata": {},
   "outputs": [
    {
     "name": "stderr",
     "output_type": "stream",
     "text": [
      "/Users/Sriram/anaconda/lib/python3.6/site-packages/sklearn/cross_validation.py:44: DeprecationWarning: This module was deprecated in version 0.18 in favor of the model_selection module into which all the refactored classes and functions are moved. Also note that the interface of the new CV iterators are different from that of this module. This module will be removed in 0.20.\n",
      "  \"This module will be removed in 0.20.\", DeprecationWarning)\n"
     ]
    },
    {
     "data": {
      "text/html": [
       "<script>\n",
       "code_show=true; \n",
       "function code_toggle() {\n",
       "    if (code_show){\n",
       "        $('div.cell.code_cell.rendered.selected div.input').hide();\n",
       "    } else {\n",
       "        $('div.cell.code_cell.rendered.selected div.input').show();\n",
       "    }\n",
       "    code_show = !code_show\n",
       "} \n",
       "$( document ).ready(code_toggle);\n",
       "</script>\n",
       "To show/hide this cell's raw code input, click <a href=\"javascript:code_toggle()\">here</a>."
      ],
      "text/plain": [
       "<IPython.core.display.HTML object>"
      ]
     },
     "metadata": {},
     "output_type": "display_data"
    }
   ],
   "source": [
    "%matplotlib inline\n",
    "import matplotlib.pyplot as plt\n",
    "import pandas as pd\n",
    "import csv\n",
    "import numpy as np\n",
    "import collections\n",
    "from sklearn.cross_validation import train_test_split\n",
    "from sklearn.linear_model import RandomizedLasso\n",
    "from sklearn.tree import DecisionTreeClassifier\n",
    "from sklearn.ensemble import RandomForestClassifier\n",
    "from sklearn import svm\n",
    "from sklearn.metrics import roc_curve, auc\n",
    "from sklearn import datasets\n",
    "from sklearn.feature_selection import RFE\n",
    "from sklearn.linear_model import (LogisticRegression, RandomizedLogisticRegression)\n",
    "from sklearn.svm import SVC\n",
    "from sklearn import metrics\n",
    "from sklearn.metrics import precision_score,recall_score\n",
    "from sklearn import model_selection\n",
    "from sklearn.model_selection import cross_val_score\n",
    "from sklearn.metrics import roc_auc_score\n",
    "from sklearn import linear_model\n",
    "display(tag)"
   ]
  },
  {
   "cell_type": "code",
   "execution_count": 8,
   "metadata": {},
   "outputs": [
    {
     "name": "stderr",
     "output_type": "stream",
     "text": [
      "/Users/Sriram/anaconda/lib/python3.6/site-packages/ipykernel_launcher.py:12: SettingWithCopyWarning: \n",
      "A value is trying to be set on a copy of a slice from a DataFrame.\n",
      "Try using .loc[row_indexer,col_indexer] = value instead\n",
      "\n",
      "See the caveats in the documentation: http://pandas.pydata.org/pandas-docs/stable/indexing.html#indexing-view-versus-copy\n",
      "  if sys.path[0] == '':\n"
     ]
    },
    {
     "data": {
      "text/html": [
       "<script>\n",
       "code_show=true; \n",
       "function code_toggle() {\n",
       "    if (code_show){\n",
       "        $('div.cell.code_cell.rendered.selected div.input').hide();\n",
       "    } else {\n",
       "        $('div.cell.code_cell.rendered.selected div.input').show();\n",
       "    }\n",
       "    code_show = !code_show\n",
       "} \n",
       "$( document ).ready(code_toggle);\n",
       "</script>\n",
       "To show/hide this cell's raw code input, click <a href=\"javascript:code_toggle()\">here</a>."
      ],
      "text/plain": [
       "<IPython.core.display.HTML object>"
      ]
     },
     "metadata": {},
     "output_type": "display_data"
    }
   ],
   "source": [
    "data = pd.read_csv('/Users/Sriram/Documents/Soundz_Interview_Prep/learning/springboard/capstone_project/data/bank-full.csv',delimiter=\";\")\n",
    "selectedcols=['job','marital','education','default','housing','loan','contact','month','poutcome']\n",
    "for var in selectedcols:\n",
    "    catlist='var'+'_'+var\n",
    "    catlist = pd.get_dummies(data[var], prefix=var)\n",
    "    data1=data.join(catlist)\n",
    "    data=data1\n",
    "selectedcols=['job','marital','education','default','housing','loan','contact','month','poutcome']\n",
    "data_vars=data.columns.values.tolist()\n",
    "to_keep=[i for i in data_vars if i not in selectedcols]\n",
    "data_final=data[to_keep]\n",
    "data_final['y'] = data_final['y'].map({'yes': 1, 'no': 0})\n",
    "data_final_vars=list(data_final.columns.values)\n",
    "Y = ['y']\n",
    "X=[i for i in data_final_vars if i not in Y]\n",
    "display(tag)"
   ]
  },
  {
   "cell_type": "code",
   "execution_count": null,
   "metadata": {
    "collapsed": true
   },
   "outputs": [],
   "source": []
  },
  {
   "cell_type": "markdown",
   "metadata": {},
   "source": [
    "Using LassoCV and RidgeCV to estimate cooeficient of the attributes. The values greather than zero indicates feature importance\n",
    "LassoCV is unstable in a similar way as unregularized linear models are meaning that the coefficients (and thus feature ranks) can vary significantly even on small data changes when there are correlated features in the data. \n",
    "So we will use RidgeCV which is L2 regularization."
   ]
  },
  {
   "cell_type": "code",
   "execution_count": 9,
   "metadata": {},
   "outputs": [
    {
     "data": {
      "text/html": [
       "<script>\n",
       "code_show=true; \n",
       "function code_toggle() {\n",
       "    if (code_show){\n",
       "        $('div.cell.code_cell.rendered.selected div.input').hide();\n",
       "    } else {\n",
       "        $('div.cell.code_cell.rendered.selected div.input').show();\n",
       "    }\n",
       "    code_show = !code_show\n",
       "} \n",
       "$( document ).ready(code_toggle);\n",
       "</script>\n",
       "To show/hide this cell's raw code input, click <a href=\"javascript:code_toggle()\">here</a>."
      ],
      "text/plain": [
       "<IPython.core.display.HTML object>"
      ]
     },
     "metadata": {},
     "output_type": "display_data"
    }
   ],
   "source": [
    "cols=['job_student','housing_yes','loan_yes','contact_unknown','month_aug', 'month_dec', 'month_feb','month_jan', 'month_jul','month_mar', 'month_may', 'month_nov', 'month_oct', 'month_sep', 'poutcome_failure', 'poutcome_other', 'poutcome_success','poutcome_unknown'] \n",
    "X1=data_final[cols]\n",
    "Y1=data_final['y']\n",
    "\n",
    "X_train, X_test, y_train, y_test = train_test_split(X1, Y1, test_size=0.3, random_state=0)\n",
    "from sklearn.linear_model import LogisticRegression\n",
    "from sklearn import metrics\n",
    "logreg = LogisticRegression()\n",
    "lreg = logreg.fit(X_train, y_train)\n",
    "y_pred = logreg.predict(X_test)\n",
    "display(tag)"
   ]
  },
  {
   "cell_type": "code",
   "execution_count": 10,
   "metadata": {},
   "outputs": [
    {
     "data": {
      "text/html": [
       "<script>\n",
       "code_show=true; \n",
       "function code_toggle() {\n",
       "    if (code_show){\n",
       "        $('div.cell.code_cell.rendered.selected div.input').hide();\n",
       "    } else {\n",
       "        $('div.cell.code_cell.rendered.selected div.input').show();\n",
       "    }\n",
       "    code_show = !code_show\n",
       "} \n",
       "$( document ).ready(code_toggle);\n",
       "</script>\n",
       "To show/hide this cell's raw code input, click <a href=\"javascript:code_toggle()\">here</a>."
      ],
      "text/plain": [
       "<IPython.core.display.HTML object>"
      ]
     },
     "metadata": {},
     "output_type": "display_data"
    }
   ],
   "source": [
    "X2 = data_final[X]\n",
    "Y2 = data_final[Y]\n",
    "x_train0, x_test0, y_train0, y_test0 = train_test_split(X2, Y2,test_size =0.3)\n",
    "model_dt = DecisionTreeClassifier(max_depth = 810, criterion =\"gini\")\n",
    "model_dt.fit(x_train0, y_train0)\n",
    "y_pred_dt0 = model_dt.predict_proba(x_test0)[:, 1]\n",
    "fpr_dt, tpr_dt,_ = roc_curve(y_test0, y_pred_dt0)\n",
    "roc_auc_dt = auc(fpr_dt, tpr_dt)\n",
    "display(tag)"
   ]
  },
  {
   "cell_type": "code",
   "execution_count": 11,
   "metadata": {},
   "outputs": [
    {
     "name": "stderr",
     "output_type": "stream",
     "text": [
      "/Users/Sriram/anaconda/lib/python3.6/site-packages/sklearn/utils/validation.py:526: DataConversionWarning: A column-vector y was passed when a 1d array was expected. Please change the shape of y to (n_samples, ), for example using ravel().\n",
      "  y = column_or_1d(y, warn=True)\n"
     ]
    },
    {
     "data": {
      "text/html": [
       "<script>\n",
       "code_show=true; \n",
       "function code_toggle() {\n",
       "    if (code_show){\n",
       "        $('div.cell.code_cell.rendered.selected div.input').hide();\n",
       "    } else {\n",
       "        $('div.cell.code_cell.rendered.selected div.input').show();\n",
       "    }\n",
       "    code_show = !code_show\n",
       "} \n",
       "$( document ).ready(code_toggle);\n",
       "</script>\n",
       "To show/hide this cell's raw code input, click <a href=\"javascript:code_toggle()\">here</a>."
      ],
      "text/plain": [
       "<IPython.core.display.HTML object>"
      ]
     },
     "metadata": {},
     "output_type": "display_data"
    }
   ],
   "source": [
    "x_train1, x_test1, y_train1, y_test1 = train_test_split(X2, Y2,test_size =0.3)\n",
    "model_bayes = svm.SVC()\n",
    "\n",
    "model_bayes.fit(x_train1, y_train1)\n",
    "pred_bayes = model_bayes.fit(x_train1, y_train1)\n",
    "y_pred_bayes = pred_bayes.decision_function(x_test1)\n",
    "fprbayes, tprbayes, _= roc_curve(y_test1, y_pred_bayes)\n",
    "roc_auc_bayes = auc(fprbayes, tprbayes)\n",
    "display(tag)"
   ]
  },
  {
   "cell_type": "code",
   "execution_count": 12,
   "metadata": {},
   "outputs": [
    {
     "name": "stderr",
     "output_type": "stream",
     "text": [
      "/Users/Sriram/anaconda/lib/python3.6/site-packages/ipykernel_launcher.py:3: DataConversionWarning: A column-vector y was passed when a 1d array was expected. Please change the shape of y to (n_samples,), for example using ravel().\n",
      "  This is separate from the ipykernel package so we can avoid doing imports until\n"
     ]
    },
    {
     "data": {
      "text/html": [
       "<script>\n",
       "code_show=true; \n",
       "function code_toggle() {\n",
       "    if (code_show){\n",
       "        $('div.cell.code_cell.rendered.selected div.input').hide();\n",
       "    } else {\n",
       "        $('div.cell.code_cell.rendered.selected div.input').show();\n",
       "    }\n",
       "    code_show = !code_show\n",
       "} \n",
       "$( document ).ready(code_toggle);\n",
       "</script>\n",
       "To show/hide this cell's raw code input, click <a href=\"javascript:code_toggle()\">here</a>."
      ],
      "text/plain": [
       "<IPython.core.display.HTML object>"
      ]
     },
     "metadata": {},
     "output_type": "display_data"
    }
   ],
   "source": [
    "x_train2, x_test2, y_train2, y_test2 = train_test_split(X2, Y2,test_size =0.3)\n",
    "model_rf = RandomForestClassifier(max_depth = 10, n_estimators = 150)\n",
    "model_pred = model_rf.fit(x_train2, y_train2)\n",
    "y_pred_rf = model_rf.predict_proba(x_test2)[:, 1]\n",
    "\n",
    "fpr_rf, tpr_rf, _ = roc_curve(y_test2, y_pred_rf)\n",
    "roc_auc_rf = auc(fpr_rf, tpr_rf)\n",
    "display(tag)"
   ]
  },
  {
   "cell_type": "code",
   "execution_count": 25,
   "metadata": {},
   "outputs": [
    {
     "data": {
      "text/html": [
       "<script>\n",
       "code_show=true; \n",
       "function code_toggle() {\n",
       "    if (code_show){\n",
       "        $('div.cell.code_cell.rendered.selected div.input').hide();\n",
       "    } else {\n",
       "        $('div.cell.code_cell.rendered.selected div.input').show();\n",
       "    }\n",
       "    code_show = !code_show\n",
       "} \n",
       "$( document ).ready(code_toggle);\n",
       "</script>\n",
       "To show/hide this cell's raw code input, click <a href=\"javascript:code_toggle()\">here</a>."
      ],
      "text/plain": [
       "<IPython.core.display.HTML object>"
      ]
     },
     "metadata": {},
     "output_type": "display_data"
    },
    {
     "data": {
      "image/png": "[encoded data removed]",
      "text/plain": [
       "<matplotlib.figure.Figure at 0x1217eb080>"
      ]
     },
     "metadata": {},
     "output_type": "display_data"
    }
   ],
   "source": [
    "plt.plot(fpr_dt, tpr_dt, color='green',\n",
    "         lw=2, label='Decision Tree(AUC = %0.2f)' % roc_auc_dt)\n",
    "plt.plot(fprbayes, tprbayes, color='blue',\n",
    "         lw=2, label='svm(AUC = %0.5f)' % roc_auc_bayes)\n",
    "plt.plot(fpr_rf, tpr_rf, color='red',\n",
    "         lw=2, label='Random Forest(AUC = %0.2f)' % roc_auc_rf)\n",
    "plt.plot([0, 1], [0, 1], color='navy', lw=2, linestyle='--')\n",
    "\n",
    "plt.xlim([0.0, 1.0])\n",
    "plt.ylim([0.0, 1.0])\n",
    "plt.xlabel('False Positive Rate')\n",
    "plt.ylabel('True Positive Rate')\n",
    "plt.title('Receiver Operating Characteristic')\n",
    "plt.legend(loc=\"lower right\")\n",
    "display(tag)"
   ]
  },
  {
   "cell_type": "markdown",
   "metadata": {},
   "source": [
    "* Logistic - Accuracy of logistic regression classifier on test set: 0.89\n",
    "* Precision score for logistic regression classifier 0.60\n",
    "* Decision - Precision score for Decision Tree 0.48 \n",
    "* SVM - Precision score for SVM 0.33\n",
    "* Random Forest - Precision score for Random forest 0.79\n",
    "\n",
    "From the precision score its clear that Random forest has the highest score compared to other classification techniques. And Accuracy of logistic regression is higher and closer to 1\n"
   ]
  },
  {
   "cell_type": "markdown",
   "metadata": {},
   "source": [
    "For predicting if a client will subscribe to term deposit or not, the main point to consider while evaluating our models is recall score. Since the number of false negatives and true negatives are important.\n",
    "\n",
    "Below list the recall score and confusion matrix for all the 4 models which we used to do our predictive analysis"
   ]
  },
  {
   "cell_type": "code",
   "execution_count": 14,
   "metadata": {},
   "outputs": [
    {
     "name": "stdout",
     "output_type": "stream",
     "text": [
      "Recall score for logistic regression classifier 0.19\n",
      "Recall score for Decision Tree 0.47 \n",
      "Recall score for SVM 0.00\n",
      "Recall score for Random forest 0.18\n"
     ]
    }
   ],
   "source": [
    "print('Recall score for logistic regression classifier {:.2f}'.format(recall_score(y_test, lreg.predict(X_test))))\n",
    "print('Recall score for Decision Tree {:.2f} '.format(recall_score(y_test0, y_pred_dt0)))\n",
    "print('Recall score for SVM {:.2f}'.format(recall_score(y_test1,pred_bayes.predict(x_test1))))\n",
    "print('Recall score for Random forest {:.2f}'.format(recall_score(y_test2,model_pred.predict(x_test2))))"
   ]
  },
  {
   "cell_type": "code",
   "execution_count": 15,
   "metadata": {},
   "outputs": [
    {
     "name": "stdout",
     "output_type": "stream",
     "text": [
      "Confusion matrix \n",
      " TP FN\n",
      "\n",
      " FP TN \n",
      "Confusion Matrix for Logistic regression \n",
      " [[11774   195]\n",
      " [ 1289   306]]\n",
      "Confusion Matrix for Decision Tree \n",
      " [[11114   863]\n",
      " [  849   738]]\n",
      "Confusion Matrix for SVM \n",
      " [[11956     1]\n",
      " [ 1606     1]]\n",
      "Confusion Matrix for Random forest \n",
      "  [[11869   109]\n",
      " [ 1293   293]]\n"
     ]
    }
   ],
   "source": [
    "print(\"Confusion matrix \\n TP FN\\n\")\n",
    "print (\" FP TN \")       \n",
    "print('Confusion Matrix for Logistic regression \\n', metrics.confusion_matrix(y_test, y_pred))\n",
    "\n",
    "print('Confusion Matrix for Decision Tree \\n',metrics.confusion_matrix(y_test0, y_pred_dt0))\n",
    "\n",
    "print('Confusion Matrix for SVM \\n', metrics.confusion_matrix(y_test1, pred_bayes.predict(x_test1)))\n",
    "\n",
    "print('Confusion Matrix for Random forest \\n ', metrics.confusion_matrix(y_test2, model_pred.predict(x_test2)))\n"
   ]
  },
  {
   "cell_type": "markdown",
   "metadata": {},
   "source": [
    "From the above confusion matrix, \n",
    "* Decision tree have the largest number of FN and TN, and high recall score - its clear that decision tree is not best model for our predictive analysis.\n",
    "\n",
    "* SVM has low number of FN and TN but its catergoizing all the values into True positive and false positive and not taking clear consideration about the negatives. So its not a ideal model for our problem\n",
    "\n",
    "* Logistic Regression and Random forest seems to have lower recall score and lower number of false negatives. From our analysis of confusion matrix its clear that random forest seems to be best suited approach.\n"
   ]
  },
  {
   "cell_type": "code",
   "execution_count": 16,
   "metadata": {},
   "outputs": [
    {
     "data": {
      "text/html": [
       "<script>\n",
       "code_show=true; \n",
       "function code_toggle() {\n",
       "    if (code_show){\n",
       "        $('div.cell.code_cell.rendered.selected div.input').hide();\n",
       "    } else {\n",
       "        $('div.cell.code_cell.rendered.selected div.input').show();\n",
       "    }\n",
       "    code_show = !code_show\n",
       "} \n",
       "$( document ).ready(code_toggle);\n",
       "</script>\n",
       "To show/hide this cell's raw code input, click <a href=\"javascript:code_toggle()\">here</a>."
      ],
      "text/plain": [
       "<IPython.core.display.HTML object>"
      ]
     },
     "metadata": {},
     "output_type": "display_data"
    }
   ],
   "source": [
    "cols1 =['age','balance','day','duration','previous','job_admin.','job_retired','job_student','job_unemployed','marital_divorced','marital_single','education_tertiary','education_unknown','default_no','housing_no','loan_no','contact_cellular','contact_telephone','month_apr','month_dec','month_feb','month_jun','month_mar','month_oct','month_sep','poutcome_success']\n",
    "X3=data_final[cols1]\n",
    "Y3=data_final['y']\n",
    "display(tag)"
   ]
  },
  {
   "cell_type": "code",
   "execution_count": 17,
   "metadata": {},
   "outputs": [
    {
     "data": {
      "text/html": [
       "<script>\n",
       "code_show=true; \n",
       "function code_toggle() {\n",
       "    if (code_show){\n",
       "        $('div.cell.code_cell.rendered.selected div.input').hide();\n",
       "    } else {\n",
       "        $('div.cell.code_cell.rendered.selected div.input').show();\n",
       "    }\n",
       "    code_show = !code_show\n",
       "} \n",
       "$( document ).ready(code_toggle);\n",
       "</script>\n",
       "To show/hide this cell's raw code input, click <a href=\"javascript:code_toggle()\">here</a>."
      ],
      "text/plain": [
       "<IPython.core.display.HTML object>"
      ]
     },
     "metadata": {},
     "output_type": "display_data"
    }
   ],
   "source": [
    "X_train3, X_test3, y_train3, y_test3 = train_test_split(X3, Y3, test_size=0.2, random_state=0)\n",
    "from sklearn.linear_model import LogisticRegression\n",
    "from sklearn import metrics\n",
    "logreg = LogisticRegression()\n",
    "lreg = logreg.fit(X_train3, y_train3)\n",
    "y_pred3 = logreg.predict(X_test3)\n",
    "display(tag)"
   ]
  },
  {
   "cell_type": "code",
   "execution_count": 18,
   "metadata": {},
   "outputs": [
    {
     "data": {
      "text/html": [
       "<script>\n",
       "code_show=true; \n",
       "function code_toggle() {\n",
       "    if (code_show){\n",
       "        $('div.cell.code_cell.rendered.selected div.input').hide();\n",
       "    } else {\n",
       "        $('div.cell.code_cell.rendered.selected div.input').show();\n",
       "    }\n",
       "    code_show = !code_show\n",
       "} \n",
       "$( document ).ready(code_toggle);\n",
       "</script>\n",
       "To show/hide this cell's raw code input, click <a href=\"javascript:code_toggle()\">here</a>."
      ],
      "text/plain": [
       "<IPython.core.display.HTML object>"
      ]
     },
     "metadata": {},
     "output_type": "display_data"
    }
   ],
   "source": [
    "x_train4, x_test4, y_train4, y_test4 = train_test_split(X3, Y3,test_size =0.2)\n",
    "model_dt = DecisionTreeClassifier(max_depth = 810, criterion =\"gini\")\n",
    "model_dt.fit(x_train4, y_train4)\n",
    "y_pred_dt4 = model_dt.predict_proba(x_test4)[:, 1]\n",
    "fpr_dt, tpr_dt,_ = roc_curve(y_test4, y_pred_dt4)\n",
    "roc_auc_dt1 = auc(fpr_dt, tpr_dt)\n",
    "display(tag)"
   ]
  },
  {
   "cell_type": "code",
   "execution_count": 19,
   "metadata": {},
   "outputs": [
    {
     "data": {
      "text/html": [
       "<script>\n",
       "code_show=true; \n",
       "function code_toggle() {\n",
       "    if (code_show){\n",
       "        $('div.cell.code_cell.rendered.selected div.input').hide();\n",
       "    } else {\n",
       "        $('div.cell.code_cell.rendered.selected div.input').show();\n",
       "    }\n",
       "    code_show = !code_show\n",
       "} \n",
       "$( document ).ready(code_toggle);\n",
       "</script>\n",
       "To show/hide this cell's raw code input, click <a href=\"javascript:code_toggle()\">here</a>."
      ],
      "text/plain": [
       "<IPython.core.display.HTML object>"
      ]
     },
     "metadata": {},
     "output_type": "display_data"
    }
   ],
   "source": [
    "x_train5, x_test5, y_train5, y_test5 = train_test_split(X3, Y3,test_size =0.2)\n",
    "model_bayes = svm.SVC()\n",
    "\n",
    "model_bayes.fit(x_train5, y_train5)\n",
    "pred_bayes = model_bayes.fit(x_train5, y_train5)\n",
    "y_pred_bayes5 = pred_bayes.decision_function(x_test5)\n",
    "fprbayes, tprbayes, _= roc_curve(y_test5, y_pred_bayes5)\n",
    "roc_auc_bayes2 = auc(fprbayes, tprbayes)\n",
    "display(tag)"
   ]
  },
  {
   "cell_type": "code",
   "execution_count": 20,
   "metadata": {},
   "outputs": [
    {
     "data": {
      "text/html": [
       "<script>\n",
       "code_show=true; \n",
       "function code_toggle() {\n",
       "    if (code_show){\n",
       "        $('div.cell.code_cell.rendered.selected div.input').hide();\n",
       "    } else {\n",
       "        $('div.cell.code_cell.rendered.selected div.input').show();\n",
       "    }\n",
       "    code_show = !code_show\n",
       "} \n",
       "$( document ).ready(code_toggle);\n",
       "</script>\n",
       "To show/hide this cell's raw code input, click <a href=\"javascript:code_toggle()\">here</a>."
      ],
      "text/plain": [
       "<IPython.core.display.HTML object>"
      ]
     },
     "metadata": {},
     "output_type": "display_data"
    }
   ],
   "source": [
    "x_train6, x_test6, y_train6, y_test6 = train_test_split(X3, Y3,test_size =0.2)\n",
    "model_rf = RandomForestClassifier(max_depth = 10, n_estimators = 150)\n",
    "model_pred = model_rf.fit(x_train6, y_train6)\n",
    "y_pred_rf6 = model_rf.predict_proba(x_test6)[:, 1]\n",
    "\n",
    "fpr_rf, tpr_rf, _ = roc_curve(y_test6, y_pred_rf6)\n",
    "roc_auc_rf3 = auc(fpr_rf, tpr_rf)\n",
    "display(tag)"
   ]
  },
  {
   "cell_type": "code",
   "execution_count": 26,
   "metadata": {},
   "outputs": [
    {
     "data": {
      "text/html": [
       "<script>\n",
       "code_show=true; \n",
       "function code_toggle() {\n",
       "    if (code_show){\n",
       "        $('div.cell.code_cell.rendered.selected div.input').hide();\n",
       "    } else {\n",
       "        $('div.cell.code_cell.rendered.selected div.input').show();\n",
       "    }\n",
       "    code_show = !code_show\n",
       "} \n",
       "$( document ).ready(code_toggle);\n",
       "</script>\n",
       "To show/hide this cell's raw code input, click <a href=\"javascript:code_toggle()\">here</a>."
      ],
      "text/plain": [
       "<IPython.core.display.HTML object>"
      ]
     },
     "metadata": {},
     "output_type": "display_data"
    },
    {
     "data": {
      "image/png": "[encoded data removed]",
      "text/plain": [
       "<matplotlib.figure.Figure at 0x12298ab38>"
      ]
     },
     "metadata": {},
     "output_type": "display_data"
    }
   ],
   "source": [
    "plt.plot(fpr_dt, tpr_dt, color='green',\n",
    "         lw=2, label='Decision Tree(AUC = %0.2f)' % roc_auc_dt1)\n",
    "plt.plot(fprbayes, tprbayes, color='blue',\n",
    "         lw=2, label='svm(AUC = %0.5f)' % roc_auc_bayes2)\n",
    "plt.plot(fpr_rf, tpr_rf, color='red',\n",
    "         lw=2, label='Random Forest(AUC = %0.2f)' % roc_auc_rf3)\n",
    "plt.plot([0, 1], [0, 1], color='navy', lw=2, linestyle='--')\n",
    "\n",
    "plt.xlim([0.0, 1.0])\n",
    "plt.ylim([0.0, 1.0])\n",
    "plt.xlabel('False Positive Rate')\n",
    "plt.ylabel('True Positive Rate')\n",
    "plt.title('Receiver Operating Characteristic')\n",
    "plt.legend(loc=\"lower right\")\n",
    "display(tag)"
   ]
  },
  {
   "cell_type": "code",
   "execution_count": 22,
   "metadata": {},
   "outputs": [
    {
     "name": "stdout",
     "output_type": "stream",
     "text": [
      "Recall score for logistic regression classifier 0.35\n",
      "Recall score for Decision Tree 0.47 \n",
      "Recall score for SVM 0.00\n",
      "Recall score for Random forest 0.25\n"
     ]
    }
   ],
   "source": [
    "print('Recall score for logistic regression classifier {:.2f}'.format(recall_score(y_test3, y_pred3)))\n",
    "print('Recall score for Decision Tree {:.2f} '.format(recall_score(y_test4, y_pred_dt4)))\n",
    "print('Recall score for SVM {:.2f}'.format(recall_score(y_test5,pred_bayes.predict(x_test5))))\n",
    "print('Recall score for Random forest {:.2f}'.format(recall_score(y_test6,model_pred.predict(x_test6))))"
   ]
  },
  {
   "cell_type": "code",
   "execution_count": 23,
   "metadata": {},
   "outputs": [
    {
     "name": "stdout",
     "output_type": "stream",
     "text": [
      "Confusion matrix with 80-20 \n",
      " TP FN\n",
      "\n",
      " FP TN \n",
      "Confusion Matrix for Logistic regression \n",
      " [[7751  229]\n",
      " [ 691  372]]\n",
      "Confusion Matrix for Decision Tree \n",
      " [[7371  645]\n",
      " [ 542  485]]\n",
      "Confusion Matrix for SVM \n",
      " [[7984    0]\n",
      " [1057    2]]\n",
      "Confusion Matrix for Random forest \n",
      "  [[7902  103]\n",
      " [ 778  260]]\n"
     ]
    }
   ],
   "source": [
    "print(\"Confusion matrix with 80-20 \\n TP FN\\n\")\n",
    "print (\" FP TN \")       \n",
    "print('Confusion Matrix for Logistic regression \\n', metrics.confusion_matrix(y_test3, y_pred3))\n",
    "\n",
    "print('Confusion Matrix for Decision Tree \\n',metrics.confusion_matrix(y_test4, y_pred_dt4))\n",
    "\n",
    "print('Confusion Matrix for SVM \\n', metrics.confusion_matrix(y_test5, pred_bayes.predict(x_test5)))\n",
    "\n",
    "print('Confusion Matrix for Random forest \\n ', metrics.confusion_matrix(y_test6, model_pred.predict(x_test6)))"
   ]
  },
  {
   "cell_type": "markdown",
   "metadata": {},
   "source": [
    "Similar to our 70-30 split our 80-20% train and test split follows the same hypothesis.\n",
    "\n",
    "From the above confusion matrix, \n",
    "1. Decision tree have the largest number of FN and TN, and high recall score - its clear that decision tree is not best model for our predictive analysis.\n",
    "\n",
    "2. SVM has low number of FN and TN but its catergoizing all the values into True positive and false positive and not taking clear consideration about the negatives. So its not a ideal model for our problem\n",
    "\n",
    "3. Logistic Regression and Random forest seems to have lower recall score and lower number of false negatives. From our analysis of confusion matrix its clear that random forest seems to be best suited approach.\n"
   ]
  }
 ],
 "metadata": {
  "celltoolbar": "Raw Cell Format",
  "kernelspec": {
   "display_name": "Python 3",
   "language": "python",
   "name": "python3"
  },
  "language_info": {
   "codemirror_mode": {
    "name": "ipython",
    "version": 3
   },
   "file_extension": ".py",
   "mimetype": "text/x-python",
   "name": "python",
   "nbconvert_exporter": "python",
   "pygments_lexer": "ipython3",
   "version": "3.6.1"
  }
 },
 "nbformat": 4,
 "nbformat_minor": 2
}
